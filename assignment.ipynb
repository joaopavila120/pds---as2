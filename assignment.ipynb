{
 "cells": [
  {
   "cell_type": "markdown",
   "id": "c448d013",
   "metadata": {},
   "source": [
    "# Welcome to Homework II"
   ]
  },
  {
   "cell_type": "markdown",
   "id": "ed9c466d",
   "metadata": {},
   "source": [
    "### Please read the instructions in both the instructions.pdf (on Moodle) and in this notebook very carefully!\n",
    "\n",
    "**The following instructions are binding**:\n",
    "\n",
    "* Other than ```pandas```, no further other library imports are allowed. Both third-party imports and builtin modules are not allowed.\n",
    "* Do not delete any of the ````%%writefile```` or ```%run``` statements.\n",
    "* The cells containing the function definitions and the ```%%writefile``` magic should not have any other code than the function definition and the pre-defined statements including ```%writefile``` and ```import pandas as pd```/```from typing import ...```.  Make sure that the cell defining the function is cleared of other code after implementing the function code.\n",
    "* Replace the `pass` placeholder with your own code.\n",
    "* Do **not** change any function names.\n",
    "* Do **not** modify or remove any existing line of code within each function, except that you may remove the `pass` placeholder.\n",
    "* Ensure each function receives the required input and returns the required output.\n",
    "* Answer the questions in order and and comment your code."
   ]
  },
  {
   "cell_type": "markdown",
   "id": "3451f0c5",
   "metadata": {},
   "source": [
    "## Student Number #1: 20250436"
   ]
  },
  {
   "cell_type": "markdown",
   "id": "aebbb512",
   "metadata": {},
   "source": [
    "## Student Number #2: 20221898"
   ]
  },
  {
   "cell_type": "markdown",
   "id": "80b94865",
   "metadata": {},
   "source": [
    "## Library import"
   ]
  },
  {
   "cell_type": "code",
   "execution_count": 1,
   "id": "723907a3",
   "metadata": {},
   "outputs": [],
   "source": [
    "import pandas as pd"
   ]
  },
  {
   "cell_type": "markdown",
   "id": "1abd793f",
   "metadata": {},
   "source": [
    "# Part I"
   ]
  },
  {
   "cell_type": "markdown",
   "id": "5164da8a",
   "metadata": {},
   "source": [
    "#### 1) Create the **`load_retail_data(filepath: str)`** function which loads the Online Retail file (onlineretail.csv) into a pandas DataFrame and returns it. Call this function and save the result into a DataFrame called **`df`**:"
   ]
  },
  {
   "cell_type": "code",
   "execution_count": 2,
   "id": "19b8052f",
   "metadata": {},
   "outputs": [
    {
     "name": "stdout",
     "output_type": "stream",
     "text": [
      "Writing load_retail_data.py\n"
     ]
    }
   ],
   "source": [
    "%%writefile load_retail_data.py\n",
    "import pandas as pd\n",
    "\n",
    "def load_retail_data(filepath: str) -> pd.DataFrame:\n",
    "    # Your code goes here\n",
    "    \n",
    "    # Using 'latin1' encoding to avoide decoding error - the csv have special characters\n",
    "    df = pd.read_csv(filepath, encoding=\"latin1\")\n",
    "\n",
    "    return df"
   ]
  },
  {
   "cell_type": "code",
   "execution_count": 3,
   "id": "d5adcbfa",
   "metadata": {},
   "outputs": [
    {
     "data": {
      "application/vnd.microsoft.datawrangler.viewer.v0+json": {
       "columns": [
        {
         "name": "index",
         "rawType": "int64",
         "type": "integer"
        },
        {
         "name": "InvoiceNo",
         "rawType": "object",
         "type": "string"
        },
        {
         "name": "StockCode",
         "rawType": "object",
         "type": "string"
        },
        {
         "name": "Description",
         "rawType": "object",
         "type": "string"
        },
        {
         "name": "Quantity",
         "rawType": "int64",
         "type": "integer"
        },
        {
         "name": "InvoiceDate",
         "rawType": "object",
         "type": "string"
        },
        {
         "name": "UnitPrice",
         "rawType": "float64",
         "type": "float"
        },
        {
         "name": "CustomerID",
         "rawType": "float64",
         "type": "float"
        },
        {
         "name": "Country",
         "rawType": "object",
         "type": "string"
        }
       ],
       "ref": "962e24af-2b80-4e7d-9486-a44dc5c601c2",
       "rows": [
        [
         "0",
         "536365",
         "85123A",
         "WHITE HANGING HEART T-LIGHT HOLDER",
         "6",
         "12/1/2010 8:26",
         "2.55",
         "17850.0",
         "United Kingdom"
        ],
        [
         "1",
         "536365",
         "71053",
         "WHITE METAL LANTERN",
         "6",
         "12/1/2010 8:26",
         "3.39",
         "17850.0",
         "United Kingdom"
        ],
        [
         "2",
         "536365",
         "84406B",
         "CREAM CUPID HEARTS COAT HANGER",
         "8",
         "12/1/2010 8:26",
         "2.75",
         "17850.0",
         "United Kingdom"
        ],
        [
         "3",
         "536365",
         "84029G",
         "KNITTED UNION FLAG HOT WATER BOTTLE",
         "6",
         "12/1/2010 8:26",
         "3.39",
         "17850.0",
         "United Kingdom"
        ],
        [
         "4",
         "536365",
         "84029E",
         "RED WOOLLY HOTTIE WHITE HEART.",
         "6",
         "12/1/2010 8:26",
         "3.39",
         "17850.0",
         "United Kingdom"
        ]
       ],
       "shape": {
        "columns": 8,
        "rows": 5
       }
      },
      "text/html": [
       "<div>\n",
       "<style scoped>\n",
       "    .dataframe tbody tr th:only-of-type {\n",
       "        vertical-align: middle;\n",
       "    }\n",
       "\n",
       "    .dataframe tbody tr th {\n",
       "        vertical-align: top;\n",
       "    }\n",
       "\n",
       "    .dataframe thead th {\n",
       "        text-align: right;\n",
       "    }\n",
       "</style>\n",
       "<table border=\"1\" class=\"dataframe\">\n",
       "  <thead>\n",
       "    <tr style=\"text-align: right;\">\n",
       "      <th></th>\n",
       "      <th>InvoiceNo</th>\n",
       "      <th>StockCode</th>\n",
       "      <th>Description</th>\n",
       "      <th>Quantity</th>\n",
       "      <th>InvoiceDate</th>\n",
       "      <th>UnitPrice</th>\n",
       "      <th>CustomerID</th>\n",
       "      <th>Country</th>\n",
       "    </tr>\n",
       "  </thead>\n",
       "  <tbody>\n",
       "    <tr>\n",
       "      <th>0</th>\n",
       "      <td>536365</td>\n",
       "      <td>85123A</td>\n",
       "      <td>WHITE HANGING HEART T-LIGHT HOLDER</td>\n",
       "      <td>6</td>\n",
       "      <td>12/1/2010 8:26</td>\n",
       "      <td>2.55</td>\n",
       "      <td>17850.0</td>\n",
       "      <td>United Kingdom</td>\n",
       "    </tr>\n",
       "    <tr>\n",
       "      <th>1</th>\n",
       "      <td>536365</td>\n",
       "      <td>71053</td>\n",
       "      <td>WHITE METAL LANTERN</td>\n",
       "      <td>6</td>\n",
       "      <td>12/1/2010 8:26</td>\n",
       "      <td>3.39</td>\n",
       "      <td>17850.0</td>\n",
       "      <td>United Kingdom</td>\n",
       "    </tr>\n",
       "    <tr>\n",
       "      <th>2</th>\n",
       "      <td>536365</td>\n",
       "      <td>84406B</td>\n",
       "      <td>CREAM CUPID HEARTS COAT HANGER</td>\n",
       "      <td>8</td>\n",
       "      <td>12/1/2010 8:26</td>\n",
       "      <td>2.75</td>\n",
       "      <td>17850.0</td>\n",
       "      <td>United Kingdom</td>\n",
       "    </tr>\n",
       "    <tr>\n",
       "      <th>3</th>\n",
       "      <td>536365</td>\n",
       "      <td>84029G</td>\n",
       "      <td>KNITTED UNION FLAG HOT WATER BOTTLE</td>\n",
       "      <td>6</td>\n",
       "      <td>12/1/2010 8:26</td>\n",
       "      <td>3.39</td>\n",
       "      <td>17850.0</td>\n",
       "      <td>United Kingdom</td>\n",
       "    </tr>\n",
       "    <tr>\n",
       "      <th>4</th>\n",
       "      <td>536365</td>\n",
       "      <td>84029E</td>\n",
       "      <td>RED WOOLLY HOTTIE WHITE HEART.</td>\n",
       "      <td>6</td>\n",
       "      <td>12/1/2010 8:26</td>\n",
       "      <td>3.39</td>\n",
       "      <td>17850.0</td>\n",
       "      <td>United Kingdom</td>\n",
       "    </tr>\n",
       "  </tbody>\n",
       "</table>\n",
       "</div>"
      ],
      "text/plain": [
       "  InvoiceNo StockCode                          Description  Quantity  \\\n",
       "0    536365    85123A   WHITE HANGING HEART T-LIGHT HOLDER         6   \n",
       "1    536365     71053                  WHITE METAL LANTERN         6   \n",
       "2    536365    84406B       CREAM CUPID HEARTS COAT HANGER         8   \n",
       "3    536365    84029G  KNITTED UNION FLAG HOT WATER BOTTLE         6   \n",
       "4    536365    84029E       RED WOOLLY HOTTIE WHITE HEART.         6   \n",
       "\n",
       "      InvoiceDate  UnitPrice  CustomerID         Country  \n",
       "0  12/1/2010 8:26       2.55     17850.0  United Kingdom  \n",
       "1  12/1/2010 8:26       3.39     17850.0  United Kingdom  \n",
       "2  12/1/2010 8:26       2.75     17850.0  United Kingdom  \n",
       "3  12/1/2010 8:26       3.39     17850.0  United Kingdom  \n",
       "4  12/1/2010 8:26       3.39     17850.0  United Kingdom  "
      ]
     },
     "execution_count": 3,
     "metadata": {},
     "output_type": "execute_result"
    }
   ],
   "source": [
    "%run load_retail_data.py\n",
    "\n",
    "# Use the loading function with the file path. Replace '...' with the path to 'onlineretail.csv'\n",
    "df = load_retail_data(\"onlineretail.csv\")\n",
    "\n",
    "df.head()"
   ]
  },
  {
   "cell_type": "markdown",
   "id": "eab2032a",
   "metadata": {},
   "source": [
    "#### 2) Create the **`missing_values_cleaner`** function, which takes a Pandas DataFrame as input and **returns the same DataFrame after removing all rows that contain null values in the** **`CustomerID`** **or** **`Description`** **columns.** Ensure that only nulls in these two columns are dropped, without affecting rows that have null values in other columns.\n"
   ]
  },
  {
   "cell_type": "code",
   "execution_count": 4,
   "id": "4e76bff4",
   "metadata": {},
   "outputs": [
    {
     "name": "stdout",
     "output_type": "stream",
     "text": [
      "Writing missing_values_cleaner.py\n"
     ]
    }
   ],
   "source": [
    "%%writefile missing_values_cleaner.py\n",
    "import pandas as pd\n",
    "\n",
    "def missing_values_cleaner(df) -> pd.DataFrame:\n",
    "    \n",
    "    df = df.copy()\n",
    "    \n",
    "    # Drop rows where 'CustomerID' OR 'Description' has a missing value\n",
    "    df = df.dropna(subset=[\"CustomerID\", \"Description\"])\n",
    "    \n",
    "    return df"
   ]
  },
  {
   "cell_type": "markdown",
   "id": "fb67235d",
   "metadata": {},
   "source": [
    "#### Call your `missing_values_cleaner` function on the original `df` below to view the results:"
   ]
  },
  {
   "cell_type": "code",
   "execution_count": 5,
   "id": "cd5acfe6",
   "metadata": {},
   "outputs": [
    {
     "data": {
      "application/vnd.microsoft.datawrangler.viewer.v0+json": {
       "columns": [
        {
         "name": "index",
         "rawType": "int64",
         "type": "integer"
        },
        {
         "name": "InvoiceNo",
         "rawType": "object",
         "type": "string"
        },
        {
         "name": "StockCode",
         "rawType": "object",
         "type": "string"
        },
        {
         "name": "Description",
         "rawType": "object",
         "type": "string"
        },
        {
         "name": "Quantity",
         "rawType": "int64",
         "type": "integer"
        },
        {
         "name": "InvoiceDate",
         "rawType": "object",
         "type": "string"
        },
        {
         "name": "UnitPrice",
         "rawType": "float64",
         "type": "float"
        },
        {
         "name": "CustomerID",
         "rawType": "float64",
         "type": "float"
        },
        {
         "name": "Country",
         "rawType": "object",
         "type": "string"
        }
       ],
       "ref": "886763f2-758a-443b-93a6-ff0015d55390",
       "rows": [
        [
         "0",
         "536365",
         "85123A",
         "WHITE HANGING HEART T-LIGHT HOLDER",
         "6",
         "12/1/2010 8:26",
         "2.55",
         "17850.0",
         "United Kingdom"
        ],
        [
         "1",
         "536365",
         "71053",
         "WHITE METAL LANTERN",
         "6",
         "12/1/2010 8:26",
         "3.39",
         "17850.0",
         "United Kingdom"
        ],
        [
         "2",
         "536365",
         "84406B",
         "CREAM CUPID HEARTS COAT HANGER",
         "8",
         "12/1/2010 8:26",
         "2.75",
         "17850.0",
         "United Kingdom"
        ],
        [
         "3",
         "536365",
         "84029G",
         "KNITTED UNION FLAG HOT WATER BOTTLE",
         "6",
         "12/1/2010 8:26",
         "3.39",
         "17850.0",
         "United Kingdom"
        ],
        [
         "4",
         "536365",
         "84029E",
         "RED WOOLLY HOTTIE WHITE HEART.",
         "6",
         "12/1/2010 8:26",
         "3.39",
         "17850.0",
         "United Kingdom"
        ]
       ],
       "shape": {
        "columns": 8,
        "rows": 5
       }
      },
      "text/html": [
       "<div>\n",
       "<style scoped>\n",
       "    .dataframe tbody tr th:only-of-type {\n",
       "        vertical-align: middle;\n",
       "    }\n",
       "\n",
       "    .dataframe tbody tr th {\n",
       "        vertical-align: top;\n",
       "    }\n",
       "\n",
       "    .dataframe thead th {\n",
       "        text-align: right;\n",
       "    }\n",
       "</style>\n",
       "<table border=\"1\" class=\"dataframe\">\n",
       "  <thead>\n",
       "    <tr style=\"text-align: right;\">\n",
       "      <th></th>\n",
       "      <th>InvoiceNo</th>\n",
       "      <th>StockCode</th>\n",
       "      <th>Description</th>\n",
       "      <th>Quantity</th>\n",
       "      <th>InvoiceDate</th>\n",
       "      <th>UnitPrice</th>\n",
       "      <th>CustomerID</th>\n",
       "      <th>Country</th>\n",
       "    </tr>\n",
       "  </thead>\n",
       "  <tbody>\n",
       "    <tr>\n",
       "      <th>0</th>\n",
       "      <td>536365</td>\n",
       "      <td>85123A</td>\n",
       "      <td>WHITE HANGING HEART T-LIGHT HOLDER</td>\n",
       "      <td>6</td>\n",
       "      <td>12/1/2010 8:26</td>\n",
       "      <td>2.55</td>\n",
       "      <td>17850.0</td>\n",
       "      <td>United Kingdom</td>\n",
       "    </tr>\n",
       "    <tr>\n",
       "      <th>1</th>\n",
       "      <td>536365</td>\n",
       "      <td>71053</td>\n",
       "      <td>WHITE METAL LANTERN</td>\n",
       "      <td>6</td>\n",
       "      <td>12/1/2010 8:26</td>\n",
       "      <td>3.39</td>\n",
       "      <td>17850.0</td>\n",
       "      <td>United Kingdom</td>\n",
       "    </tr>\n",
       "    <tr>\n",
       "      <th>2</th>\n",
       "      <td>536365</td>\n",
       "      <td>84406B</td>\n",
       "      <td>CREAM CUPID HEARTS COAT HANGER</td>\n",
       "      <td>8</td>\n",
       "      <td>12/1/2010 8:26</td>\n",
       "      <td>2.75</td>\n",
       "      <td>17850.0</td>\n",
       "      <td>United Kingdom</td>\n",
       "    </tr>\n",
       "    <tr>\n",
       "      <th>3</th>\n",
       "      <td>536365</td>\n",
       "      <td>84029G</td>\n",
       "      <td>KNITTED UNION FLAG HOT WATER BOTTLE</td>\n",
       "      <td>6</td>\n",
       "      <td>12/1/2010 8:26</td>\n",
       "      <td>3.39</td>\n",
       "      <td>17850.0</td>\n",
       "      <td>United Kingdom</td>\n",
       "    </tr>\n",
       "    <tr>\n",
       "      <th>4</th>\n",
       "      <td>536365</td>\n",
       "      <td>84029E</td>\n",
       "      <td>RED WOOLLY HOTTIE WHITE HEART.</td>\n",
       "      <td>6</td>\n",
       "      <td>12/1/2010 8:26</td>\n",
       "      <td>3.39</td>\n",
       "      <td>17850.0</td>\n",
       "      <td>United Kingdom</td>\n",
       "    </tr>\n",
       "  </tbody>\n",
       "</table>\n",
       "</div>"
      ],
      "text/plain": [
       "  InvoiceNo StockCode                          Description  Quantity  \\\n",
       "0    536365    85123A   WHITE HANGING HEART T-LIGHT HOLDER         6   \n",
       "1    536365     71053                  WHITE METAL LANTERN         6   \n",
       "2    536365    84406B       CREAM CUPID HEARTS COAT HANGER         8   \n",
       "3    536365    84029G  KNITTED UNION FLAG HOT WATER BOTTLE         6   \n",
       "4    536365    84029E       RED WOOLLY HOTTIE WHITE HEART.         6   \n",
       "\n",
       "      InvoiceDate  UnitPrice  CustomerID         Country  \n",
       "0  12/1/2010 8:26       2.55     17850.0  United Kingdom  \n",
       "1  12/1/2010 8:26       3.39     17850.0  United Kingdom  \n",
       "2  12/1/2010 8:26       2.75     17850.0  United Kingdom  \n",
       "3  12/1/2010 8:26       3.39     17850.0  United Kingdom  \n",
       "4  12/1/2010 8:26       3.39     17850.0  United Kingdom  "
      ]
     },
     "execution_count": 5,
     "metadata": {},
     "output_type": "execute_result"
    }
   ],
   "source": [
    "%run missing_values_cleaner.py\n",
    "# Here the correct arguments should be added\n",
    "missing_values_cleaner(df).head()"
   ]
  },
  {
   "cell_type": "markdown",
   "id": "ed2e73cb",
   "metadata": {},
   "source": [
    "#### 3) Create the **`quantity_handler`** function, which takes a Pandas DataFrame as input and **returns the same DataFrame after removing all rows that contain negative or 0 values in the** **`Quantity`** **column.**\n",
    "\n"
   ]
  },
  {
   "cell_type": "code",
   "execution_count": 6,
   "id": "75a04a38",
   "metadata": {},
   "outputs": [
    {
     "name": "stdout",
     "output_type": "stream",
     "text": [
      "Writing quantity_handler.py\n"
     ]
    }
   ],
   "source": [
    "%%writefile quantity_handler.py\n",
    "import pandas as pd\n",
    "\n",
    "def quantity_handler(df) -> pd.DataFrame:\n",
    "    \n",
    "    df = df.copy()\n",
    "\n",
    "    return df[df[\"Quantity\"] > 0]"
   ]
  },
  {
   "cell_type": "markdown",
   "id": "86278ffc",
   "metadata": {},
   "source": [
    "#### Call your `quantity_handler` function on the original `df` below to view the results:\n"
   ]
  },
  {
   "cell_type": "code",
   "execution_count": 7,
   "id": "be221de0",
   "metadata": {},
   "outputs": [
    {
     "data": {
      "application/vnd.microsoft.datawrangler.viewer.v0+json": {
       "columns": [
        {
         "name": "index",
         "rawType": "int64",
         "type": "integer"
        },
        {
         "name": "InvoiceNo",
         "rawType": "object",
         "type": "string"
        },
        {
         "name": "StockCode",
         "rawType": "object",
         "type": "string"
        },
        {
         "name": "Description",
         "rawType": "object",
         "type": "string"
        },
        {
         "name": "Quantity",
         "rawType": "int64",
         "type": "integer"
        },
        {
         "name": "InvoiceDate",
         "rawType": "object",
         "type": "string"
        },
        {
         "name": "UnitPrice",
         "rawType": "float64",
         "type": "float"
        },
        {
         "name": "CustomerID",
         "rawType": "float64",
         "type": "float"
        },
        {
         "name": "Country",
         "rawType": "object",
         "type": "string"
        }
       ],
       "ref": "7e5b2410-fcb4-4127-b15b-2f53c2adda66",
       "rows": [
        [
         "0",
         "536365",
         "85123A",
         "WHITE HANGING HEART T-LIGHT HOLDER",
         "6",
         "12/1/2010 8:26",
         "2.55",
         "17850.0",
         "United Kingdom"
        ],
        [
         "1",
         "536365",
         "71053",
         "WHITE METAL LANTERN",
         "6",
         "12/1/2010 8:26",
         "3.39",
         "17850.0",
         "United Kingdom"
        ],
        [
         "2",
         "536365",
         "84406B",
         "CREAM CUPID HEARTS COAT HANGER",
         "8",
         "12/1/2010 8:26",
         "2.75",
         "17850.0",
         "United Kingdom"
        ],
        [
         "3",
         "536365",
         "84029G",
         "KNITTED UNION FLAG HOT WATER BOTTLE",
         "6",
         "12/1/2010 8:26",
         "3.39",
         "17850.0",
         "United Kingdom"
        ],
        [
         "4",
         "536365",
         "84029E",
         "RED WOOLLY HOTTIE WHITE HEART.",
         "6",
         "12/1/2010 8:26",
         "3.39",
         "17850.0",
         "United Kingdom"
        ]
       ],
       "shape": {
        "columns": 8,
        "rows": 5
       }
      },
      "text/html": [
       "<div>\n",
       "<style scoped>\n",
       "    .dataframe tbody tr th:only-of-type {\n",
       "        vertical-align: middle;\n",
       "    }\n",
       "\n",
       "    .dataframe tbody tr th {\n",
       "        vertical-align: top;\n",
       "    }\n",
       "\n",
       "    .dataframe thead th {\n",
       "        text-align: right;\n",
       "    }\n",
       "</style>\n",
       "<table border=\"1\" class=\"dataframe\">\n",
       "  <thead>\n",
       "    <tr style=\"text-align: right;\">\n",
       "      <th></th>\n",
       "      <th>InvoiceNo</th>\n",
       "      <th>StockCode</th>\n",
       "      <th>Description</th>\n",
       "      <th>Quantity</th>\n",
       "      <th>InvoiceDate</th>\n",
       "      <th>UnitPrice</th>\n",
       "      <th>CustomerID</th>\n",
       "      <th>Country</th>\n",
       "    </tr>\n",
       "  </thead>\n",
       "  <tbody>\n",
       "    <tr>\n",
       "      <th>0</th>\n",
       "      <td>536365</td>\n",
       "      <td>85123A</td>\n",
       "      <td>WHITE HANGING HEART T-LIGHT HOLDER</td>\n",
       "      <td>6</td>\n",
       "      <td>12/1/2010 8:26</td>\n",
       "      <td>2.55</td>\n",
       "      <td>17850.0</td>\n",
       "      <td>United Kingdom</td>\n",
       "    </tr>\n",
       "    <tr>\n",
       "      <th>1</th>\n",
       "      <td>536365</td>\n",
       "      <td>71053</td>\n",
       "      <td>WHITE METAL LANTERN</td>\n",
       "      <td>6</td>\n",
       "      <td>12/1/2010 8:26</td>\n",
       "      <td>3.39</td>\n",
       "      <td>17850.0</td>\n",
       "      <td>United Kingdom</td>\n",
       "    </tr>\n",
       "    <tr>\n",
       "      <th>2</th>\n",
       "      <td>536365</td>\n",
       "      <td>84406B</td>\n",
       "      <td>CREAM CUPID HEARTS COAT HANGER</td>\n",
       "      <td>8</td>\n",
       "      <td>12/1/2010 8:26</td>\n",
       "      <td>2.75</td>\n",
       "      <td>17850.0</td>\n",
       "      <td>United Kingdom</td>\n",
       "    </tr>\n",
       "    <tr>\n",
       "      <th>3</th>\n",
       "      <td>536365</td>\n",
       "      <td>84029G</td>\n",
       "      <td>KNITTED UNION FLAG HOT WATER BOTTLE</td>\n",
       "      <td>6</td>\n",
       "      <td>12/1/2010 8:26</td>\n",
       "      <td>3.39</td>\n",
       "      <td>17850.0</td>\n",
       "      <td>United Kingdom</td>\n",
       "    </tr>\n",
       "    <tr>\n",
       "      <th>4</th>\n",
       "      <td>536365</td>\n",
       "      <td>84029E</td>\n",
       "      <td>RED WOOLLY HOTTIE WHITE HEART.</td>\n",
       "      <td>6</td>\n",
       "      <td>12/1/2010 8:26</td>\n",
       "      <td>3.39</td>\n",
       "      <td>17850.0</td>\n",
       "      <td>United Kingdom</td>\n",
       "    </tr>\n",
       "  </tbody>\n",
       "</table>\n",
       "</div>"
      ],
      "text/plain": [
       "  InvoiceNo StockCode                          Description  Quantity  \\\n",
       "0    536365    85123A   WHITE HANGING HEART T-LIGHT HOLDER         6   \n",
       "1    536365     71053                  WHITE METAL LANTERN         6   \n",
       "2    536365    84406B       CREAM CUPID HEARTS COAT HANGER         8   \n",
       "3    536365    84029G  KNITTED UNION FLAG HOT WATER BOTTLE         6   \n",
       "4    536365    84029E       RED WOOLLY HOTTIE WHITE HEART.         6   \n",
       "\n",
       "      InvoiceDate  UnitPrice  CustomerID         Country  \n",
       "0  12/1/2010 8:26       2.55     17850.0  United Kingdom  \n",
       "1  12/1/2010 8:26       3.39     17850.0  United Kingdom  \n",
       "2  12/1/2010 8:26       2.75     17850.0  United Kingdom  \n",
       "3  12/1/2010 8:26       3.39     17850.0  United Kingdom  \n",
       "4  12/1/2010 8:26       3.39     17850.0  United Kingdom  "
      ]
     },
     "execution_count": 7,
     "metadata": {},
     "output_type": "execute_result"
    }
   ],
   "source": [
    "%run quantity_handler.py\n",
    "\n",
    "# Here the correct arguments should be added\n",
    "quantity_handler(df).head()"
   ]
  },
  {
   "cell_type": "markdown",
   "id": "d27a605a",
   "metadata": {},
   "source": [
    "#### 4) Create the **`amount_spent_computer`** function, which takes a Pandas DataFrame as input and **returns the same DataFrame with an added column named** **`amount_spent`**. This column should represent the product of **`Quantity`** and **`UnitPrice`**.\n"
   ]
  },
  {
   "cell_type": "code",
   "execution_count": 8,
   "id": "dd07698b",
   "metadata": {},
   "outputs": [
    {
     "name": "stdout",
     "output_type": "stream",
     "text": [
      "Writing amount_spent_computer.py\n"
     ]
    }
   ],
   "source": [
    "%%writefile amount_spent_computer.py\n",
    "import pandas as pd\n",
    "\n",
    "def amount_spent_computer(df) -> pd.DataFrame:\n",
    "    \n",
    "    df = df.copy()\n",
    "    \n",
    "    df[\"amount_spent\"] = df[\"Quantity\"] * df[\"UnitPrice\"]\n",
    "    \n",
    "    return df"
   ]
  },
  {
   "cell_type": "markdown",
   "id": "6b30a629",
   "metadata": {},
   "source": [
    "#### Call your `amount_spent_computer` function on the original `df` below to view the results:\n"
   ]
  },
  {
   "cell_type": "code",
   "execution_count": 42,
   "id": "867711ba",
   "metadata": {},
   "outputs": [
    {
     "data": {
      "application/vnd.microsoft.datawrangler.viewer.v0+json": {
       "columns": [
        {
         "name": "index",
         "rawType": "int64",
         "type": "integer"
        },
        {
         "name": "InvoiceNo",
         "rawType": "object",
         "type": "string"
        },
        {
         "name": "StockCode",
         "rawType": "object",
         "type": "string"
        },
        {
         "name": "Description",
         "rawType": "object",
         "type": "string"
        },
        {
         "name": "Quantity",
         "rawType": "int64",
         "type": "integer"
        },
        {
         "name": "InvoiceDate",
         "rawType": "datetime64[ns]",
         "type": "datetime"
        },
        {
         "name": "UnitPrice",
         "rawType": "float64",
         "type": "float"
        },
        {
         "name": "CustomerID",
         "rawType": "float64",
         "type": "float"
        },
        {
         "name": "Country",
         "rawType": "object",
         "type": "string"
        },
        {
         "name": "amount_spent",
         "rawType": "float64",
         "type": "float"
        }
       ],
       "ref": "74342145-8ef7-4f33-a7de-3f4152ff52a6",
       "rows": [
        [
         "0",
         "536365",
         "85123A",
         "WHITE HANGING HEART T-LIGHT HOLDER",
         "6",
         "2010-12-01 08:26:00",
         "2.55",
         "17850.0",
         "United Kingdom",
         "15.299999999999999"
        ],
        [
         "1",
         "536365",
         "71053",
         "WHITE METAL LANTERN",
         "6",
         "2010-12-01 08:26:00",
         "3.39",
         "17850.0",
         "United Kingdom",
         "20.34"
        ],
        [
         "2",
         "536365",
         "84406B",
         "CREAM CUPID HEARTS COAT HANGER",
         "8",
         "2010-12-01 08:26:00",
         "2.75",
         "17850.0",
         "United Kingdom",
         "22.0"
        ],
        [
         "3",
         "536365",
         "84029G",
         "KNITTED UNION FLAG HOT WATER BOTTLE",
         "6",
         "2010-12-01 08:26:00",
         "3.39",
         "17850.0",
         "United Kingdom",
         "20.34"
        ],
        [
         "4",
         "536365",
         "84029E",
         "RED WOOLLY HOTTIE WHITE HEART.",
         "6",
         "2010-12-01 08:26:00",
         "3.39",
         "17850.0",
         "United Kingdom",
         "20.34"
        ]
       ],
       "shape": {
        "columns": 9,
        "rows": 5
       }
      },
      "text/html": [
       "<div>\n",
       "<style scoped>\n",
       "    .dataframe tbody tr th:only-of-type {\n",
       "        vertical-align: middle;\n",
       "    }\n",
       "\n",
       "    .dataframe tbody tr th {\n",
       "        vertical-align: top;\n",
       "    }\n",
       "\n",
       "    .dataframe thead th {\n",
       "        text-align: right;\n",
       "    }\n",
       "</style>\n",
       "<table border=\"1\" class=\"dataframe\">\n",
       "  <thead>\n",
       "    <tr style=\"text-align: right;\">\n",
       "      <th></th>\n",
       "      <th>InvoiceNo</th>\n",
       "      <th>StockCode</th>\n",
       "      <th>Description</th>\n",
       "      <th>Quantity</th>\n",
       "      <th>InvoiceDate</th>\n",
       "      <th>UnitPrice</th>\n",
       "      <th>CustomerID</th>\n",
       "      <th>Country</th>\n",
       "      <th>amount_spent</th>\n",
       "    </tr>\n",
       "  </thead>\n",
       "  <tbody>\n",
       "    <tr>\n",
       "      <th>0</th>\n",
       "      <td>536365</td>\n",
       "      <td>85123A</td>\n",
       "      <td>WHITE HANGING HEART T-LIGHT HOLDER</td>\n",
       "      <td>6</td>\n",
       "      <td>2010-12-01 08:26:00</td>\n",
       "      <td>2.55</td>\n",
       "      <td>17850.0</td>\n",
       "      <td>United Kingdom</td>\n",
       "      <td>15.30</td>\n",
       "    </tr>\n",
       "    <tr>\n",
       "      <th>1</th>\n",
       "      <td>536365</td>\n",
       "      <td>71053</td>\n",
       "      <td>WHITE METAL LANTERN</td>\n",
       "      <td>6</td>\n",
       "      <td>2010-12-01 08:26:00</td>\n",
       "      <td>3.39</td>\n",
       "      <td>17850.0</td>\n",
       "      <td>United Kingdom</td>\n",
       "      <td>20.34</td>\n",
       "    </tr>\n",
       "    <tr>\n",
       "      <th>2</th>\n",
       "      <td>536365</td>\n",
       "      <td>84406B</td>\n",
       "      <td>CREAM CUPID HEARTS COAT HANGER</td>\n",
       "      <td>8</td>\n",
       "      <td>2010-12-01 08:26:00</td>\n",
       "      <td>2.75</td>\n",
       "      <td>17850.0</td>\n",
       "      <td>United Kingdom</td>\n",
       "      <td>22.00</td>\n",
       "    </tr>\n",
       "    <tr>\n",
       "      <th>3</th>\n",
       "      <td>536365</td>\n",
       "      <td>84029G</td>\n",
       "      <td>KNITTED UNION FLAG HOT WATER BOTTLE</td>\n",
       "      <td>6</td>\n",
       "      <td>2010-12-01 08:26:00</td>\n",
       "      <td>3.39</td>\n",
       "      <td>17850.0</td>\n",
       "      <td>United Kingdom</td>\n",
       "      <td>20.34</td>\n",
       "    </tr>\n",
       "    <tr>\n",
       "      <th>4</th>\n",
       "      <td>536365</td>\n",
       "      <td>84029E</td>\n",
       "      <td>RED WOOLLY HOTTIE WHITE HEART.</td>\n",
       "      <td>6</td>\n",
       "      <td>2010-12-01 08:26:00</td>\n",
       "      <td>3.39</td>\n",
       "      <td>17850.0</td>\n",
       "      <td>United Kingdom</td>\n",
       "      <td>20.34</td>\n",
       "    </tr>\n",
       "  </tbody>\n",
       "</table>\n",
       "</div>"
      ],
      "text/plain": [
       "  InvoiceNo StockCode                          Description  Quantity  \\\n",
       "0    536365    85123A   WHITE HANGING HEART T-LIGHT HOLDER         6   \n",
       "1    536365     71053                  WHITE METAL LANTERN         6   \n",
       "2    536365    84406B       CREAM CUPID HEARTS COAT HANGER         8   \n",
       "3    536365    84029G  KNITTED UNION FLAG HOT WATER BOTTLE         6   \n",
       "4    536365    84029E       RED WOOLLY HOTTIE WHITE HEART.         6   \n",
       "\n",
       "          InvoiceDate  UnitPrice  CustomerID         Country  amount_spent  \n",
       "0 2010-12-01 08:26:00       2.55     17850.0  United Kingdom         15.30  \n",
       "1 2010-12-01 08:26:00       3.39     17850.0  United Kingdom         20.34  \n",
       "2 2010-12-01 08:26:00       2.75     17850.0  United Kingdom         22.00  \n",
       "3 2010-12-01 08:26:00       3.39     17850.0  United Kingdom         20.34  \n",
       "4 2010-12-01 08:26:00       3.39     17850.0  United Kingdom         20.34  "
      ]
     },
     "execution_count": 42,
     "metadata": {},
     "output_type": "execute_result"
    }
   ],
   "source": [
    "%run amount_spent_computer.py\n",
    "\n",
    "# Here the correct arguments should be added\n",
    "amount_spent_computer(df).head()"
   ]
  },
  {
   "cell_type": "markdown",
   "id": "5ec758ee",
   "metadata": {},
   "source": [
    "#### 5) Create the **`date_handler`** function, which takes a Pandas DataFrame as input and **returns the same DataFrame without any invoices from the year 2011.**\n"
   ]
  },
  {
   "cell_type": "code",
   "execution_count": 10,
   "id": "ea261964",
   "metadata": {},
   "outputs": [
    {
     "name": "stdout",
     "output_type": "stream",
     "text": [
      "Writing date_handler.py\n"
     ]
    }
   ],
   "source": [
    "%%writefile date_handler.py\n",
    "import pandas as pd\n",
    "\n",
    "def date_handler(df) -> pd.DataFrame:\n",
    "    df = df.copy()\n",
    "    \n",
    "    # Ensure 'InvoiceDate' is datetime\n",
    "    df['InvoiceDate'] = pd.to_datetime(df['InvoiceDate'])\n",
    "\n",
    "    df = df[df['InvoiceDate'].dt.year != 2011]\n",
    "    \n",
    "    return df"
   ]
  },
  {
   "cell_type": "markdown",
   "id": "571ab24f",
   "metadata": {},
   "source": [
    "#### Call your `date_handler` function on the original `df` below to view the results:\n"
   ]
  },
  {
   "cell_type": "code",
   "execution_count": 11,
   "id": "f0b3c7e5",
   "metadata": {},
   "outputs": [
    {
     "data": {
      "application/vnd.microsoft.datawrangler.viewer.v0+json": {
       "columns": [
        {
         "name": "index",
         "rawType": "int64",
         "type": "integer"
        },
        {
         "name": "InvoiceNo",
         "rawType": "object",
         "type": "string"
        },
        {
         "name": "StockCode",
         "rawType": "object",
         "type": "string"
        },
        {
         "name": "Description",
         "rawType": "object",
         "type": "string"
        },
        {
         "name": "Quantity",
         "rawType": "int64",
         "type": "integer"
        },
        {
         "name": "InvoiceDate",
         "rawType": "datetime64[ns]",
         "type": "datetime"
        },
        {
         "name": "UnitPrice",
         "rawType": "float64",
         "type": "float"
        },
        {
         "name": "CustomerID",
         "rawType": "float64",
         "type": "float"
        },
        {
         "name": "Country",
         "rawType": "object",
         "type": "string"
        }
       ],
       "ref": "911c7176-b5e9-4bd1-ac3c-a0a40ecb771d",
       "rows": [
        [
         "0",
         "536365",
         "85123A",
         "WHITE HANGING HEART T-LIGHT HOLDER",
         "6",
         "2010-12-01 08:26:00",
         "2.55",
         "17850.0",
         "United Kingdom"
        ],
        [
         "1",
         "536365",
         "71053",
         "WHITE METAL LANTERN",
         "6",
         "2010-12-01 08:26:00",
         "3.39",
         "17850.0",
         "United Kingdom"
        ],
        [
         "2",
         "536365",
         "84406B",
         "CREAM CUPID HEARTS COAT HANGER",
         "8",
         "2010-12-01 08:26:00",
         "2.75",
         "17850.0",
         "United Kingdom"
        ],
        [
         "3",
         "536365",
         "84029G",
         "KNITTED UNION FLAG HOT WATER BOTTLE",
         "6",
         "2010-12-01 08:26:00",
         "3.39",
         "17850.0",
         "United Kingdom"
        ],
        [
         "4",
         "536365",
         "84029E",
         "RED WOOLLY HOTTIE WHITE HEART.",
         "6",
         "2010-12-01 08:26:00",
         "3.39",
         "17850.0",
         "United Kingdom"
        ]
       ],
       "shape": {
        "columns": 8,
        "rows": 5
       }
      },
      "text/html": [
       "<div>\n",
       "<style scoped>\n",
       "    .dataframe tbody tr th:only-of-type {\n",
       "        vertical-align: middle;\n",
       "    }\n",
       "\n",
       "    .dataframe tbody tr th {\n",
       "        vertical-align: top;\n",
       "    }\n",
       "\n",
       "    .dataframe thead th {\n",
       "        text-align: right;\n",
       "    }\n",
       "</style>\n",
       "<table border=\"1\" class=\"dataframe\">\n",
       "  <thead>\n",
       "    <tr style=\"text-align: right;\">\n",
       "      <th></th>\n",
       "      <th>InvoiceNo</th>\n",
       "      <th>StockCode</th>\n",
       "      <th>Description</th>\n",
       "      <th>Quantity</th>\n",
       "      <th>InvoiceDate</th>\n",
       "      <th>UnitPrice</th>\n",
       "      <th>CustomerID</th>\n",
       "      <th>Country</th>\n",
       "    </tr>\n",
       "  </thead>\n",
       "  <tbody>\n",
       "    <tr>\n",
       "      <th>0</th>\n",
       "      <td>536365</td>\n",
       "      <td>85123A</td>\n",
       "      <td>WHITE HANGING HEART T-LIGHT HOLDER</td>\n",
       "      <td>6</td>\n",
       "      <td>2010-12-01 08:26:00</td>\n",
       "      <td>2.55</td>\n",
       "      <td>17850.0</td>\n",
       "      <td>United Kingdom</td>\n",
       "    </tr>\n",
       "    <tr>\n",
       "      <th>1</th>\n",
       "      <td>536365</td>\n",
       "      <td>71053</td>\n",
       "      <td>WHITE METAL LANTERN</td>\n",
       "      <td>6</td>\n",
       "      <td>2010-12-01 08:26:00</td>\n",
       "      <td>3.39</td>\n",
       "      <td>17850.0</td>\n",
       "      <td>United Kingdom</td>\n",
       "    </tr>\n",
       "    <tr>\n",
       "      <th>2</th>\n",
       "      <td>536365</td>\n",
       "      <td>84406B</td>\n",
       "      <td>CREAM CUPID HEARTS COAT HANGER</td>\n",
       "      <td>8</td>\n",
       "      <td>2010-12-01 08:26:00</td>\n",
       "      <td>2.75</td>\n",
       "      <td>17850.0</td>\n",
       "      <td>United Kingdom</td>\n",
       "    </tr>\n",
       "    <tr>\n",
       "      <th>3</th>\n",
       "      <td>536365</td>\n",
       "      <td>84029G</td>\n",
       "      <td>KNITTED UNION FLAG HOT WATER BOTTLE</td>\n",
       "      <td>6</td>\n",
       "      <td>2010-12-01 08:26:00</td>\n",
       "      <td>3.39</td>\n",
       "      <td>17850.0</td>\n",
       "      <td>United Kingdom</td>\n",
       "    </tr>\n",
       "    <tr>\n",
       "      <th>4</th>\n",
       "      <td>536365</td>\n",
       "      <td>84029E</td>\n",
       "      <td>RED WOOLLY HOTTIE WHITE HEART.</td>\n",
       "      <td>6</td>\n",
       "      <td>2010-12-01 08:26:00</td>\n",
       "      <td>3.39</td>\n",
       "      <td>17850.0</td>\n",
       "      <td>United Kingdom</td>\n",
       "    </tr>\n",
       "  </tbody>\n",
       "</table>\n",
       "</div>"
      ],
      "text/plain": [
       "  InvoiceNo StockCode                          Description  Quantity  \\\n",
       "0    536365    85123A   WHITE HANGING HEART T-LIGHT HOLDER         6   \n",
       "1    536365     71053                  WHITE METAL LANTERN         6   \n",
       "2    536365    84406B       CREAM CUPID HEARTS COAT HANGER         8   \n",
       "3    536365    84029G  KNITTED UNION FLAG HOT WATER BOTTLE         6   \n",
       "4    536365    84029E       RED WOOLLY HOTTIE WHITE HEART.         6   \n",
       "\n",
       "          InvoiceDate  UnitPrice  CustomerID         Country  \n",
       "0 2010-12-01 08:26:00       2.55     17850.0  United Kingdom  \n",
       "1 2010-12-01 08:26:00       3.39     17850.0  United Kingdom  \n",
       "2 2010-12-01 08:26:00       2.75     17850.0  United Kingdom  \n",
       "3 2010-12-01 08:26:00       3.39     17850.0  United Kingdom  \n",
       "4 2010-12-01 08:26:00       3.39     17850.0  United Kingdom  "
      ]
     },
     "execution_count": 11,
     "metadata": {},
     "output_type": "execute_result"
    }
   ],
   "source": [
    "%run date_handler.py\n",
    "# Here the correct arguments should be added\n",
    "date_handler(df).head()"
   ]
  },
  {
   "cell_type": "markdown",
   "id": "5b944cbc",
   "metadata": {},
   "source": [
    "#### 6) Create the **`data_cleaner`** function, which takes a Pandas DataFrame as input and **returns the same DataFrame after cleaning.** The cleaning process must follow the instructions provided inside the function.\n"
   ]
  },
  {
   "cell_type": "code",
   "execution_count": 12,
   "id": "710136e7",
   "metadata": {},
   "outputs": [
    {
     "name": "stdout",
     "output_type": "stream",
     "text": [
      "Writing data_cleaner.py\n"
     ]
    }
   ],
   "source": [
    "%%writefile data_cleaner.py\n",
    "import pandas as pd\n",
    "from missing_values_cleaner import missing_values_cleaner\n",
    "from quantity_handler import quantity_handler\n",
    "from amount_spent_computer import amount_spent_computer\n",
    "from date_handler import date_handler\n",
    "\n",
    "def data_cleaner(df) -> pd.DataFrame:\n",
    "    \n",
    "    \"\"\"\n",
    "    \n",
    "    This function receives a Pandas DataFrame as input.\n",
    "\n",
    "    First, pass the input DataFrame `df` to the `missing_values_cleaner`\n",
    "    function, and store its output in a new variable called `clean`.\n",
    "    Then, pass `clean` to the `quantity_handler` function and store its\n",
    "    output (you may reuse the variable name `clean`).\n",
    "\n",
    "    Next, pass the resulting DataFrame to the `amount_spent_computer`\n",
    "    function, and then to the `date_handler` function. Finally, return\n",
    "    the fully cleaned DataFrame.\n",
    "    \n",
    "    \"\"\"\n",
    "    \n",
    "    # Step 1 - Clean missing values\n",
    "    clean = missing_values_cleaner(df)\n",
    "    \n",
    "    # Step 2 - Remove invalid quantities\n",
    "    clean = quantity_handler(clean)\n",
    "    \n",
    "    # Step 3 - Compute amount spent\n",
    "    clean = amount_spent_computer(clean)\n",
    "    \n",
    "    # Step 4 - Remove invoices from 2011\n",
    "    clean = date_handler(clean)\n",
    "    \n",
    "    return clean"
   ]
  },
  {
   "cell_type": "markdown",
   "id": "1eca1410",
   "metadata": {},
   "source": [
    "#### Now, before we proceed. We will clean our data using your **`data_cleaner`** function.\n"
   ]
  },
  {
   "cell_type": "code",
   "execution_count": 13,
   "id": "2431fb43",
   "metadata": {},
   "outputs": [
    {
     "data": {
      "application/vnd.microsoft.datawrangler.viewer.v0+json": {
       "columns": [
        {
         "name": "index",
         "rawType": "int64",
         "type": "integer"
        },
        {
         "name": "InvoiceNo",
         "rawType": "object",
         "type": "string"
        },
        {
         "name": "StockCode",
         "rawType": "object",
         "type": "string"
        },
        {
         "name": "Description",
         "rawType": "object",
         "type": "string"
        },
        {
         "name": "Quantity",
         "rawType": "int64",
         "type": "integer"
        },
        {
         "name": "InvoiceDate",
         "rawType": "datetime64[ns]",
         "type": "datetime"
        },
        {
         "name": "UnitPrice",
         "rawType": "float64",
         "type": "float"
        },
        {
         "name": "CustomerID",
         "rawType": "float64",
         "type": "float"
        },
        {
         "name": "Country",
         "rawType": "object",
         "type": "string"
        },
        {
         "name": "amount_spent",
         "rawType": "float64",
         "type": "float"
        }
       ],
       "ref": "2c31378f-562a-42a0-a38e-ff020cebbca6",
       "rows": [
        [
         "0",
         "536365",
         "85123A",
         "WHITE HANGING HEART T-LIGHT HOLDER",
         "6",
         "2010-12-01 08:26:00",
         "2.55",
         "17850.0",
         "United Kingdom",
         "15.299999999999999"
        ],
        [
         "1",
         "536365",
         "71053",
         "WHITE METAL LANTERN",
         "6",
         "2010-12-01 08:26:00",
         "3.39",
         "17850.0",
         "United Kingdom",
         "20.34"
        ],
        [
         "2",
         "536365",
         "84406B",
         "CREAM CUPID HEARTS COAT HANGER",
         "8",
         "2010-12-01 08:26:00",
         "2.75",
         "17850.0",
         "United Kingdom",
         "22.0"
        ],
        [
         "3",
         "536365",
         "84029G",
         "KNITTED UNION FLAG HOT WATER BOTTLE",
         "6",
         "2010-12-01 08:26:00",
         "3.39",
         "17850.0",
         "United Kingdom",
         "20.34"
        ],
        [
         "4",
         "536365",
         "84029E",
         "RED WOOLLY HOTTIE WHITE HEART.",
         "6",
         "2010-12-01 08:26:00",
         "3.39",
         "17850.0",
         "United Kingdom",
         "20.34"
        ]
       ],
       "shape": {
        "columns": 9,
        "rows": 5
       }
      },
      "text/html": [
       "<div>\n",
       "<style scoped>\n",
       "    .dataframe tbody tr th:only-of-type {\n",
       "        vertical-align: middle;\n",
       "    }\n",
       "\n",
       "    .dataframe tbody tr th {\n",
       "        vertical-align: top;\n",
       "    }\n",
       "\n",
       "    .dataframe thead th {\n",
       "        text-align: right;\n",
       "    }\n",
       "</style>\n",
       "<table border=\"1\" class=\"dataframe\">\n",
       "  <thead>\n",
       "    <tr style=\"text-align: right;\">\n",
       "      <th></th>\n",
       "      <th>InvoiceNo</th>\n",
       "      <th>StockCode</th>\n",
       "      <th>Description</th>\n",
       "      <th>Quantity</th>\n",
       "      <th>InvoiceDate</th>\n",
       "      <th>UnitPrice</th>\n",
       "      <th>CustomerID</th>\n",
       "      <th>Country</th>\n",
       "      <th>amount_spent</th>\n",
       "    </tr>\n",
       "  </thead>\n",
       "  <tbody>\n",
       "    <tr>\n",
       "      <th>0</th>\n",
       "      <td>536365</td>\n",
       "      <td>85123A</td>\n",
       "      <td>WHITE HANGING HEART T-LIGHT HOLDER</td>\n",
       "      <td>6</td>\n",
       "      <td>2010-12-01 08:26:00</td>\n",
       "      <td>2.55</td>\n",
       "      <td>17850.0</td>\n",
       "      <td>United Kingdom</td>\n",
       "      <td>15.30</td>\n",
       "    </tr>\n",
       "    <tr>\n",
       "      <th>1</th>\n",
       "      <td>536365</td>\n",
       "      <td>71053</td>\n",
       "      <td>WHITE METAL LANTERN</td>\n",
       "      <td>6</td>\n",
       "      <td>2010-12-01 08:26:00</td>\n",
       "      <td>3.39</td>\n",
       "      <td>17850.0</td>\n",
       "      <td>United Kingdom</td>\n",
       "      <td>20.34</td>\n",
       "    </tr>\n",
       "    <tr>\n",
       "      <th>2</th>\n",
       "      <td>536365</td>\n",
       "      <td>84406B</td>\n",
       "      <td>CREAM CUPID HEARTS COAT HANGER</td>\n",
       "      <td>8</td>\n",
       "      <td>2010-12-01 08:26:00</td>\n",
       "      <td>2.75</td>\n",
       "      <td>17850.0</td>\n",
       "      <td>United Kingdom</td>\n",
       "      <td>22.00</td>\n",
       "    </tr>\n",
       "    <tr>\n",
       "      <th>3</th>\n",
       "      <td>536365</td>\n",
       "      <td>84029G</td>\n",
       "      <td>KNITTED UNION FLAG HOT WATER BOTTLE</td>\n",
       "      <td>6</td>\n",
       "      <td>2010-12-01 08:26:00</td>\n",
       "      <td>3.39</td>\n",
       "      <td>17850.0</td>\n",
       "      <td>United Kingdom</td>\n",
       "      <td>20.34</td>\n",
       "    </tr>\n",
       "    <tr>\n",
       "      <th>4</th>\n",
       "      <td>536365</td>\n",
       "      <td>84029E</td>\n",
       "      <td>RED WOOLLY HOTTIE WHITE HEART.</td>\n",
       "      <td>6</td>\n",
       "      <td>2010-12-01 08:26:00</td>\n",
       "      <td>3.39</td>\n",
       "      <td>17850.0</td>\n",
       "      <td>United Kingdom</td>\n",
       "      <td>20.34</td>\n",
       "    </tr>\n",
       "  </tbody>\n",
       "</table>\n",
       "</div>"
      ],
      "text/plain": [
       "  InvoiceNo StockCode                          Description  Quantity  \\\n",
       "0    536365    85123A   WHITE HANGING HEART T-LIGHT HOLDER         6   \n",
       "1    536365     71053                  WHITE METAL LANTERN         6   \n",
       "2    536365    84406B       CREAM CUPID HEARTS COAT HANGER         8   \n",
       "3    536365    84029G  KNITTED UNION FLAG HOT WATER BOTTLE         6   \n",
       "4    536365    84029E       RED WOOLLY HOTTIE WHITE HEART.         6   \n",
       "\n",
       "          InvoiceDate  UnitPrice  CustomerID         Country  amount_spent  \n",
       "0 2010-12-01 08:26:00       2.55     17850.0  United Kingdom         15.30  \n",
       "1 2010-12-01 08:26:00       3.39     17850.0  United Kingdom         20.34  \n",
       "2 2010-12-01 08:26:00       2.75     17850.0  United Kingdom         22.00  \n",
       "3 2010-12-01 08:26:00       3.39     17850.0  United Kingdom         20.34  \n",
       "4 2010-12-01 08:26:00       3.39     17850.0  United Kingdom         20.34  "
      ]
     },
     "execution_count": 13,
     "metadata": {},
     "output_type": "execute_result"
    }
   ],
   "source": [
    "%run data_cleaner.py\n",
    "# Here the correct arguments should be added\n",
    "df = data_cleaner(df)\n",
    "\n",
    "df.head()"
   ]
  },
  {
   "cell_type": "markdown",
   "id": "cf048f9e",
   "metadata": {},
   "source": [
    "#### 7) Create the **`top_five_cust`** function, which takes a Pandas DataFrame as input and **returns a list of** **`CustomerID`s** **corresponding to the five customers who have placed the highest number of orders.** Note that the same invoice number (`InvoiceNo`) represents a single order, even if it appears across multiple rows! Be careful with these repetitions ;)\n"
   ]
  },
  {
   "cell_type": "code",
   "execution_count": 14,
   "id": "1781347d",
   "metadata": {},
   "outputs": [
    {
     "name": "stdout",
     "output_type": "stream",
     "text": [
      "Writing top_five_cust.py\n"
     ]
    }
   ],
   "source": [
    "%%writefile top_five_cust.py\n",
    "import pandas as pd\n",
    "\n",
    "def top_five_cust(df) -> list:\n",
    "    \n",
    "    order_counts = df.groupby('CustomerID')['InvoiceNo'].nunique()\n",
    "\n",
    "    top_customers = order_counts.sort_values(ascending=False).head(5)\n",
    "    \n",
    "    return top_customers.index.tolist()"
   ]
  },
  {
   "cell_type": "markdown",
   "id": "e2c3120e",
   "metadata": {},
   "source": [
    "#### Call your `top_five_cust` function on the now cleaned `df` below to view the results:\n"
   ]
  },
  {
   "cell_type": "code",
   "execution_count": 15,
   "id": "da9f3679",
   "metadata": {},
   "outputs": [
    {
     "data": {
      "text/plain": [
       "[12748.0, 17850.0, 14911.0, 15061.0, 13777.0]"
      ]
     },
     "execution_count": 15,
     "metadata": {},
     "output_type": "execute_result"
    }
   ],
   "source": [
    "%run top_five_cust.py\n",
    "# Here the correct arguments should be added\n",
    "top_five_cust(df)"
   ]
  },
  {
   "cell_type": "markdown",
   "id": "7b7b31c9",
   "metadata": {},
   "source": [
    "#### 8) Create the **`top_five_spenders`** function, which takes a Pandas DataFrame as input and **returns a list of** **`CustomerID`s** **corresponding to the five customers who have spent the most money.** Use the newly created **`amount_spent`** column for this exercise.\n"
   ]
  },
  {
   "cell_type": "code",
   "execution_count": 16,
   "id": "4ff3eb87",
   "metadata": {},
   "outputs": [
    {
     "name": "stdout",
     "output_type": "stream",
     "text": [
      "Writing top_five_spenders.py\n"
     ]
    }
   ],
   "source": [
    "%%writefile top_five_spenders.py\n",
    "import pandas as pd\n",
    "\n",
    "def top_five_spenders(df) -> list:\n",
    "    total_spent = df.groupby('CustomerID')['amount_spent'].sum()\n",
    "\n",
    "    top_spenders = total_spent.sort_values(ascending=False).head(5)\n",
    "\n",
    "    return top_spenders.index.tolist()"
   ]
  },
  {
   "cell_type": "markdown",
   "id": "15009f25",
   "metadata": {},
   "source": [
    "#### Call your `top_five_spenders` function on the now cleaned `df` below to view the results:\n"
   ]
  },
  {
   "cell_type": "code",
   "execution_count": 17,
   "id": "1b855ebb",
   "metadata": {},
   "outputs": [
    {
     "data": {
      "text/plain": [
       "[18102.0, 15061.0, 16029.0, 14646.0, 14911.0]"
      ]
     },
     "execution_count": 17,
     "metadata": {},
     "output_type": "execute_result"
    }
   ],
   "source": [
    "%run top_five_spenders.py\n",
    "# Here the correct arguments should be added\n",
    "top_five_spenders(df)"
   ]
  },
  {
   "cell_type": "markdown",
   "id": "a81652ff",
   "metadata": {},
   "source": [
    "#### 9) Create the **`most_expensive_item`** function, which receives a Pandas DataFrame as input and **returns a string representing the `Description` of the most expensive item.**\n"
   ]
  },
  {
   "cell_type": "code",
   "execution_count": 18,
   "id": "2c9536b3",
   "metadata": {},
   "outputs": [
    {
     "name": "stdout",
     "output_type": "stream",
     "text": [
      "Writing most_expensive_item.py\n"
     ]
    }
   ],
   "source": [
    "%%writefile most_expensive_item.py\n",
    "import pandas as pd\n",
    "\n",
    "def most_expensive_item(df) -> str:\n",
    "    df = df.copy()\n",
    "    \n",
    "    # Find the row with the maximum UnitPrice\n",
    "    max_price_row = df.loc[df[\"UnitPrice\"].idxmax()]\n",
    "    \n",
    "    # Return the description \n",
    "    return max_price_row[\"Description\"]"
   ]
  },
  {
   "cell_type": "markdown",
   "id": "59ae896e",
   "metadata": {},
   "source": [
    "#### Call your `most_expensive_item` function on the now cleaned `df` below to view the results:"
   ]
  },
  {
   "cell_type": "code",
   "execution_count": 19,
   "id": "a7a3234b",
   "metadata": {},
   "outputs": [
    {
     "data": {
      "text/plain": [
       "'VINTAGE RED KITCHEN CABINET'"
      ]
     },
     "execution_count": 19,
     "metadata": {},
     "output_type": "execute_result"
    }
   ],
   "source": [
    "%run most_expensive_item.py\n",
    "# Here the correct arguments should be added\n",
    "most_expensive_item(df)"
   ]
  },
  {
   "cell_type": "markdown",
   "id": "2ebf4929",
   "metadata": {},
   "source": [
    "#### 10) Create the **`top_twenty_countries`** function, which receives a Pandas DataFrame as input and **returns a list of strings containing the 20 countries with the highest number of orders.** Note that this follows the same logic as question 7, so be careful with repeated orders (same invoice numbers)!\n"
   ]
  },
  {
   "cell_type": "code",
   "execution_count": 20,
   "id": "8ed75b0a",
   "metadata": {},
   "outputs": [
    {
     "name": "stdout",
     "output_type": "stream",
     "text": [
      "Writing top_twenty_countries.py\n"
     ]
    }
   ],
   "source": [
    "%%writefile top_twenty_countries.py\n",
    "import pandas as pd\n",
    "from typing import List\n",
    "\n",
    "def top_twenty_countries(df) -> List[str]:\n",
    "    \n",
    "    df = df.copy()\n",
    "\n",
    "    # Remove duplicate orders based on InvoiceNo\n",
    "    unique_orders = df.drop_duplicates(subset=[\"InvoiceNo\"])\n",
    "\n",
    "    # Count unique orders per country and take the top 20 (reset index and sort_values are to toorder by count and country name)\n",
    "    top_20 = unique_orders[\"Country\"].value_counts().reset_index().sort_values([\"count\", \"Country\"], ascending = [False, True]).head(20)\n",
    "\n",
    "    # Return the country names as a list\n",
    "    return list(top_20.Country)"
   ]
  },
  {
   "cell_type": "markdown",
   "id": "925b8871",
   "metadata": {},
   "source": [
    "#### Call your `top_twenty_countries` function on the now cleaned `df` below to view the results:"
   ]
  },
  {
   "cell_type": "code",
   "execution_count": 21,
   "id": "38fae386",
   "metadata": {},
   "outputs": [
    {
     "data": {
      "text/plain": [
       "['United Kingdom',\n",
       " 'Germany',\n",
       " 'France',\n",
       " 'EIRE',\n",
       " 'Portugal',\n",
       " 'Belgium',\n",
       " 'Lithuania',\n",
       " 'Spain',\n",
       " 'Australia',\n",
       " 'Japan',\n",
       " 'Netherlands',\n",
       " 'Italy',\n",
       " 'Norway',\n",
       " 'Sweden',\n",
       " 'Switzerland',\n",
       " 'Austria',\n",
       " 'Channel Islands',\n",
       " 'Cyprus',\n",
       " 'Denmark',\n",
       " 'Finland']"
      ]
     },
     "execution_count": 21,
     "metadata": {},
     "output_type": "execute_result"
    }
   ],
   "source": [
    "%run top_twenty_countries.py\n",
    "# Here the correct arguments should be added\n",
    "top_twenty_countries(df)"
   ]
  },
  {
   "cell_type": "markdown",
   "id": "52b18f1b",
   "metadata": {},
   "source": [
    "#### 11) Create the **`popular_products`** function, which receives a Pandas DataFrame as input and **returns a list of strings representing the descriptions (`Description`) of the 5 products purchased the most times.** Note that “number of times” refers only to how often an item was purchased, not the quantity of each order!\n"
   ]
  },
  {
   "cell_type": "code",
   "execution_count": 22,
   "id": "0d1fd529",
   "metadata": {},
   "outputs": [
    {
     "name": "stdout",
     "output_type": "stream",
     "text": [
      "Writing popular_products.py\n"
     ]
    }
   ],
   "source": [
    "%%writefile popular_products.py\n",
    "import pandas as pd\n",
    "from typing import List\n",
    "\n",
    "def popular_products(df) -> List[str]:\n",
    "    \n",
    "    df = df.copy()\n",
    "\n",
    "    # Count the occurrences of each product description\n",
    "    product_counts = df[\"Description\"].value_counts()\n",
    "\n",
    "    # Select the top 5 most purchased products\n",
    "    top_5 = product_counts.head(5)\n",
    "\n",
    "    # Return only the product names as a list\n",
    "    return list(top_5.index)"
   ]
  },
  {
   "cell_type": "markdown",
   "id": "a4eb3735",
   "metadata": {},
   "source": [
    "#### Call your `popular_products` function on the now cleaned `df` below to view the results:"
   ]
  },
  {
   "cell_type": "code",
   "execution_count": 23,
   "id": "236f1662",
   "metadata": {},
   "outputs": [
    {
     "data": {
      "text/plain": [
       "['WHITE HANGING HEART T-LIGHT HOLDER',\n",
       " 'HAND WARMER BABUSHKA DESIGN',\n",
       " 'REGENCY CAKESTAND 3 TIER',\n",
       " \"PAPER CHAIN KIT 50'S CHRISTMAS \",\n",
       " 'SCOTTIE DOG HOT WATER BOTTLE']"
      ]
     },
     "execution_count": 23,
     "metadata": {},
     "output_type": "execute_result"
    }
   ],
   "source": [
    "%run popular_products.py\n",
    "# Here the correct arguments should be added\n",
    "popular_products(df)"
   ]
  },
  {
   "cell_type": "markdown",
   "id": "e89e71a1",
   "metadata": {},
   "source": [
    "#### 12) Create the **`country_best_product`** function, which receives a Pandas DataFrame and a string as input. The string represents a country. The function must **return** `None` if the country is not present in the DataFrame. Otherwise, it should **return the description of the item that is most frequently purchased in that country.** Remember that “most frequently purchased” refers to how often the item appears, not the quantity purchased.\n"
   ]
  },
  {
   "cell_type": "code",
   "execution_count": 24,
   "id": "1fb9c986",
   "metadata": {},
   "outputs": [
    {
     "name": "stdout",
     "output_type": "stream",
     "text": [
      "Writing country_best_product.py\n"
     ]
    }
   ],
   "source": [
    "%%writefile country_best_product.py\n",
    "import pandas as pd\n",
    "\n",
    "def country_best_product(df, country) -> str:\n",
    "    df = df.copy()\n",
    "    \n",
    "    # Only the rows from the country passed as an argument\n",
    "    sub = df[df[\"Country\"] == country]\n",
    "    \n",
    "    # Check if the country exists in the data\n",
    "    if sub.empty:\n",
    "        return None\n",
    "    \n",
    "    # Count how many times each product appears (not quantity)\n",
    "    counts = sub[\"Description\"].value_counts()\n",
    "    \n",
    "    return counts.index[0]"
   ]
  },
  {
   "cell_type": "markdown",
   "id": "b3a1ee9c",
   "metadata": {},
   "source": [
    "#### Call your `country_best_product` function on the now cleaned `df` and \"Portugal\" below to view the results:"
   ]
  },
  {
   "cell_type": "code",
   "execution_count": 25,
   "id": "8a036edf",
   "metadata": {},
   "outputs": [
    {
     "data": {
      "text/plain": [
       "'POSTAGE'"
      ]
     },
     "execution_count": 25,
     "metadata": {},
     "output_type": "execute_result"
    }
   ],
   "source": [
    "%run country_best_product.py\n",
    "# Here the correct arguments should be added\n",
    "country_best_product(df, \"Portugal\")"
   ]
  },
  {
   "cell_type": "markdown",
   "id": "4c49ba76",
   "metadata": {},
   "source": [
    "# Part II"
   ]
  },
  {
   "cell_type": "markdown",
   "id": "8bf36734",
   "metadata": {},
   "source": [
    "#### 13) Create the **`load_customer_data(filepath: str)`** function which loads the **`customer_info.csv`** file into a Pandas DataFrame and returns it. Call this function and save the result into a DataFrame named **`customers`**.\n"
   ]
  },
  {
   "cell_type": "code",
   "execution_count": 26,
   "id": "4094ee1e",
   "metadata": {},
   "outputs": [
    {
     "name": "stdout",
     "output_type": "stream",
     "text": [
      "Writing load_customer_data.py\n"
     ]
    }
   ],
   "source": [
    "%%writefile load_customer_data.py\n",
    "import pandas as pd\n",
    "\n",
    "def load_customer_data(filepath: str) -> pd.DataFrame:\n",
    "    # Read the CSV file into a pandas DataFrame\n",
    "    df = pd.read_csv(filepath)\n",
    "\n",
    "    # Return the DataFrame\n",
    "    return df"
   ]
  },
  {
   "cell_type": "code",
   "execution_count": 27,
   "id": "6b71d07a",
   "metadata": {},
   "outputs": [
    {
     "data": {
      "application/vnd.microsoft.datawrangler.viewer.v0+json": {
       "columns": [
        {
         "name": "index",
         "rawType": "int64",
         "type": "integer"
        },
        {
         "name": "CustomerID",
         "rawType": "float64",
         "type": "float"
        },
        {
         "name": "FirstName",
         "rawType": "object",
         "type": "string"
        },
        {
         "name": "LastName",
         "rawType": "object",
         "type": "string"
        },
        {
         "name": "Email",
         "rawType": "object",
         "type": "string"
        },
        {
         "name": "Phone",
         "rawType": "object",
         "type": "string"
        },
        {
         "name": "Age",
         "rawType": "int64",
         "type": "integer"
        },
        {
         "name": "YearsActive",
         "rawType": "int64",
         "type": "integer"
        },
        {
         "name": "NumChildren",
         "rawType": "int64",
         "type": "integer"
        },
        {
         "name": "VIP",
         "rawType": "object",
         "type": "string"
        },
        {
         "name": "EstimatedAnnualSpend",
         "rawType": "float64",
         "type": "float"
        }
       ],
       "ref": "995c8ec8-9e00-48bd-97f0-8342c122d10a",
       "rows": [
        [
         "0",
         "17850.0",
         "Rowan",
         "White",
         "rowan.white0.0@mail.test",
         "+6-642-419-1833",
         "56",
         "11",
         "2",
         "No",
         "5352.29"
        ],
        [
         "1",
         "13047.0",
         "Casey",
         "Johnson",
         "casey.johnson7.0@sample.net",
         "+5-208-357-5102",
         "20",
         "2",
         "1",
         "No",
         "1554.88"
        ],
        [
         "2",
         "12583.0",
         "Morgan",
         "Harris",
         "morgan.harris3.0@sample.net",
         "+1-877-772-1298",
         "34",
         "7",
         "2",
         "No",
         "3396.24"
        ],
        [
         "3",
         "13748.0",
         "Casey",
         "Harris",
         "casey.harris8.0@demo.org",
         "+5-854-311-7228",
         "56",
         "5",
         "4",
         "No",
         "1243.36"
        ],
        [
         "4",
         "15100.0",
         "Riley",
         "Thompson",
         "riley.thompson0.0@mail.test",
         "+2-818-901-1646",
         "42",
         "1",
         "3",
         "No",
         "661.39"
        ]
       ],
       "shape": {
        "columns": 10,
        "rows": 5
       }
      },
      "text/html": [
       "<div>\n",
       "<style scoped>\n",
       "    .dataframe tbody tr th:only-of-type {\n",
       "        vertical-align: middle;\n",
       "    }\n",
       "\n",
       "    .dataframe tbody tr th {\n",
       "        vertical-align: top;\n",
       "    }\n",
       "\n",
       "    .dataframe thead th {\n",
       "        text-align: right;\n",
       "    }\n",
       "</style>\n",
       "<table border=\"1\" class=\"dataframe\">\n",
       "  <thead>\n",
       "    <tr style=\"text-align: right;\">\n",
       "      <th></th>\n",
       "      <th>CustomerID</th>\n",
       "      <th>FirstName</th>\n",
       "      <th>LastName</th>\n",
       "      <th>Email</th>\n",
       "      <th>Phone</th>\n",
       "      <th>Age</th>\n",
       "      <th>YearsActive</th>\n",
       "      <th>NumChildren</th>\n",
       "      <th>VIP</th>\n",
       "      <th>EstimatedAnnualSpend</th>\n",
       "    </tr>\n",
       "  </thead>\n",
       "  <tbody>\n",
       "    <tr>\n",
       "      <th>0</th>\n",
       "      <td>17850.0</td>\n",
       "      <td>Rowan</td>\n",
       "      <td>White</td>\n",
       "      <td>rowan.white0.0@mail.test</td>\n",
       "      <td>+6-642-419-1833</td>\n",
       "      <td>56</td>\n",
       "      <td>11</td>\n",
       "      <td>2</td>\n",
       "      <td>No</td>\n",
       "      <td>5352.29</td>\n",
       "    </tr>\n",
       "    <tr>\n",
       "      <th>1</th>\n",
       "      <td>13047.0</td>\n",
       "      <td>Casey</td>\n",
       "      <td>Johnson</td>\n",
       "      <td>casey.johnson7.0@sample.net</td>\n",
       "      <td>+5-208-357-5102</td>\n",
       "      <td>20</td>\n",
       "      <td>2</td>\n",
       "      <td>1</td>\n",
       "      <td>No</td>\n",
       "      <td>1554.88</td>\n",
       "    </tr>\n",
       "    <tr>\n",
       "      <th>2</th>\n",
       "      <td>12583.0</td>\n",
       "      <td>Morgan</td>\n",
       "      <td>Harris</td>\n",
       "      <td>morgan.harris3.0@sample.net</td>\n",
       "      <td>+1-877-772-1298</td>\n",
       "      <td>34</td>\n",
       "      <td>7</td>\n",
       "      <td>2</td>\n",
       "      <td>No</td>\n",
       "      <td>3396.24</td>\n",
       "    </tr>\n",
       "    <tr>\n",
       "      <th>3</th>\n",
       "      <td>13748.0</td>\n",
       "      <td>Casey</td>\n",
       "      <td>Harris</td>\n",
       "      <td>casey.harris8.0@demo.org</td>\n",
       "      <td>+5-854-311-7228</td>\n",
       "      <td>56</td>\n",
       "      <td>5</td>\n",
       "      <td>4</td>\n",
       "      <td>No</td>\n",
       "      <td>1243.36</td>\n",
       "    </tr>\n",
       "    <tr>\n",
       "      <th>4</th>\n",
       "      <td>15100.0</td>\n",
       "      <td>Riley</td>\n",
       "      <td>Thompson</td>\n",
       "      <td>riley.thompson0.0@mail.test</td>\n",
       "      <td>+2-818-901-1646</td>\n",
       "      <td>42</td>\n",
       "      <td>1</td>\n",
       "      <td>3</td>\n",
       "      <td>No</td>\n",
       "      <td>661.39</td>\n",
       "    </tr>\n",
       "  </tbody>\n",
       "</table>\n",
       "</div>"
      ],
      "text/plain": [
       "   CustomerID FirstName  LastName                        Email  \\\n",
       "0     17850.0     Rowan     White     rowan.white0.0@mail.test   \n",
       "1     13047.0     Casey   Johnson  casey.johnson7.0@sample.net   \n",
       "2     12583.0    Morgan    Harris  morgan.harris3.0@sample.net   \n",
       "3     13748.0     Casey    Harris     casey.harris8.0@demo.org   \n",
       "4     15100.0     Riley  Thompson  riley.thompson0.0@mail.test   \n",
       "\n",
       "             Phone  Age  YearsActive  NumChildren VIP  EstimatedAnnualSpend  \n",
       "0  +6-642-419-1833   56           11            2  No               5352.29  \n",
       "1  +5-208-357-5102   20            2            1  No               1554.88  \n",
       "2  +1-877-772-1298   34            7            2  No               3396.24  \n",
       "3  +5-854-311-7228   56            5            4  No               1243.36  \n",
       "4  +2-818-901-1646   42            1            3  No                661.39  "
      ]
     },
     "execution_count": 27,
     "metadata": {},
     "output_type": "execute_result"
    }
   ],
   "source": [
    "# Use the loading function with the file paths. Replace '...' with the path to 'customer_info.csv'\n",
    "%run load_customer_data.py\n",
    "# Here the correct arguments should be added\n",
    "customers = load_customer_data(\"customer_info.csv\")\n",
    "\n",
    "customers.head()"
   ]
  },
  {
   "cell_type": "markdown",
   "id": "0cfcea55",
   "metadata": {},
   "source": [
    "#### 14) Create the **`average_age`** function, which takes two Pandas DataFrames as input: the retail DataFrame and the customer DataFrame. The function should use the one created in exercise 7) to obtain the list of the top 5 customers, and then **return a float representing the average age of these top 5 customers (those who placed the most orders).**\n"
   ]
  },
  {
   "cell_type": "code",
   "execution_count": 28,
   "id": "b797fc3f",
   "metadata": {},
   "outputs": [
    {
     "name": "stdout",
     "output_type": "stream",
     "text": [
      "Writing average_age.py\n"
     ]
    }
   ],
   "source": [
    "%%writefile average_age.py\n",
    "import pandas as pd\n",
    "from top_five_cust import top_five_cust\n",
    "\n",
    "def average_age(df, customers) -> float:\n",
    "    df = df.copy()\n",
    "    customers = customers.copy()\n",
    "\n",
    "    # Get the list of the top 5 customers\n",
    "    top_customers = top_five_cust(df)\n",
    "\n",
    "    # Filter the customer DataFrame to keep only those 5\n",
    "    top_customers_info = customers[customers[\"CustomerID\"].isin(top_customers)]\n",
    "\n",
    "    # Calculate and return the average age of these top 5 customers\n",
    "    return top_customers_info[\"Age\"].mean()"
   ]
  },
  {
   "cell_type": "markdown",
   "id": "9d70298f",
   "metadata": {},
   "source": [
    "#### Call your `average_age` function on the now cleaned `df` and `customers` below to view the results:"
   ]
  },
  {
   "cell_type": "code",
   "execution_count": 29,
   "id": "25e3bf1b",
   "metadata": {},
   "outputs": [
    {
     "data": {
      "text/plain": [
       "np.float64(51.0)"
      ]
     },
     "execution_count": 29,
     "metadata": {},
     "output_type": "execute_result"
    }
   ],
   "source": [
    "%run average_age.py\n",
    "# Here the correct arguments should be added\n",
    "average_age(df, customers)"
   ]
  },
  {
   "cell_type": "markdown",
   "id": "919e2aeb",
   "metadata": {},
   "source": [
    "#### 15) Create the **`most_active`** function, which takes the customer DataFrame as input and **returns a list of strings containing the emails of the customers who have been active for the longest period of time (`YearsActive`).**\n"
   ]
  },
  {
   "cell_type": "code",
   "execution_count": 30,
   "id": "ee1ec814",
   "metadata": {},
   "outputs": [
    {
     "name": "stdout",
     "output_type": "stream",
     "text": [
      "Writing most_active.py\n"
     ]
    }
   ],
   "source": [
    "%%writefile most_active.py\n",
    "import pandas as pd\n",
    "from typing import List\n",
    "\n",
    "def most_active(customers) -> List[str]:\n",
    "    customers = customers.copy()\n",
    "\n",
    "    # Find the maximum value of YearsActive\n",
    "    max_years = customers[\"YearsActive\"].max()\n",
    "\n",
    "    # Select all customers with that maximum value\n",
    "    most_active_customers = customers[customers[\"YearsActive\"] == max_years]\n",
    "\n",
    "    # Return their emails as a list of strings\n",
    "    return list(most_active_customers[\"Email\"])"
   ]
  },
  {
   "cell_type": "markdown",
   "id": "b7f1338e",
   "metadata": {},
   "source": [
    "#### Call your `most_active` function on the `customers` DataFrame below to view the results:"
   ]
  },
  {
   "cell_type": "code",
   "execution_count": 31,
   "id": "9519d5a6",
   "metadata": {},
   "outputs": [
    {
     "data": {
      "text/plain": [
       "['reese.taylor9.0@example.com',\n",
       " 'elliot.martin1.0@no-reply.io',\n",
       " 'parker.harris1.0@example.com',\n",
       " 'avery.king1.0@demo.org',\n",
       " 'cameron.martin7.0@demo.org',\n",
       " 'hayden.clark5.0@mail.test',\n",
       " 'reese.taylor5.0@sample.net',\n",
       " 'blake.clark8.0@sample.net',\n",
       " 'jamie.lee7.0@mail.test',\n",
       " 'alex.walker5.0@demo.org',\n",
       " 'elliot.young5.0@mail.test',\n",
       " 'jordan.thomas6.0@no-reply.io',\n",
       " 'blake.king1.0@no-reply.io',\n",
       " 'alex.thompson0.0@example.com',\n",
       " 'sam.white0.0@example.com',\n",
       " 'blake.lee5.0@example.com',\n",
       " 'cameron.jackson1.0@sample.net',\n",
       " 'elliot.clark8.0@mail.test',\n",
       " 'rowan.young3.0@no-reply.io',\n",
       " 'blake.jackson2.0@sample.net',\n",
       " 'casey.lee8.0@example.com',\n",
       " 'rowan.thomas2.0@demo.org',\n",
       " 'rowan.allen6.0@example.com',\n",
       " 'jordan.white9.0@sample.net',\n",
       " 'jamie.king8.0@demo.org',\n",
       " 'alex.lee4.0@sample.net',\n",
       " 'logan.anderson8.0@mail.test',\n",
       " 'avery.walker1.0@example.com',\n",
       " 'logan.young9.0@demo.org',\n",
       " 'logan.thomas4.0@example.com',\n",
       " 'jamie.garcia4.0@no-reply.io',\n",
       " 'reese.clark5.0@sample.net',\n",
       " 'elliot.lee4.0@mail.test',\n",
       " 'avery.young0.0@demo.org',\n",
       " 'elliot.king1.0@sample.net',\n",
       " 'morgan.taylor2.0@sample.net',\n",
       " 'morgan.harris1.0@demo.org',\n",
       " 'taylor.king3.0@no-reply.io',\n",
       " 'reese.anderson0.0@no-reply.io',\n",
       " 'jordan.walker9.0@sample.net',\n",
       " 'cameron.walker6.0@mail.test',\n",
       " 'blake.allen2.0@demo.org',\n",
       " 'morgan.thompson8.0@mail.test',\n",
       " 'quinn.lee2.0@mail.test',\n",
       " 'casey.johnson6.0@no-reply.io',\n",
       " 'parker.harris5.0@no-reply.io',\n",
       " 'quinn.smith2.0@sample.net',\n",
       " 'riley.allen2.0@example.com',\n",
       " 'jamie.thomas2.0@mail.test',\n",
       " 'jordan.harris8.0@example.com',\n",
       " 'taylor.martin1.0@example.com',\n",
       " 'logan.garcia5.0@example.com',\n",
       " 'quinn.garcia1.0@mail.test',\n",
       " 'hayden.young6.0@example.com',\n",
       " 'hayden.clark0.0@demo.org',\n",
       " 'casey.smith8.0@demo.org',\n",
       " 'blake.thompson4.0@no-reply.io',\n",
       " 'jamie.smith7.0@example.com',\n",
       " 'rowan.thompson9.0@example.com',\n",
       " 'alex.lee7.0@demo.org',\n",
       " 'parker.lee0.0@sample.net',\n",
       " 'parker.jackson6.0@demo.org',\n",
       " 'drew.king9.0@mail.test',\n",
       " 'avery.taylor5.0@mail.test',\n",
       " 'sam.young6.0@example.com',\n",
       " 'cameron.allen2.0@demo.org',\n",
       " 'logan.white2.0@example.com',\n",
       " 'elliot.young8.0@no-reply.io',\n",
       " 'rowan.king0.0@demo.org',\n",
       " 'taylor.white3.0@mail.test',\n",
       " 'hayden.king2.0@mail.test',\n",
       " 'morgan.thompson0.0@example.com',\n",
       " 'blake.lewis2.0@example.com',\n",
       " 'casey.martin5.0@demo.org',\n",
       " 'elliot.lewis1.0@demo.org',\n",
       " 'jordan.walker1.0@mail.test',\n",
       " 'drew.taylor7.0@example.com',\n",
       " 'sam.taylor0.0@sample.net',\n",
       " 'riley.white6.0@demo.org',\n",
       " 'sam.white6.0@mail.test',\n",
       " 'jamie.johnson6.0@example.com',\n",
       " 'logan.clark0.0@sample.net',\n",
       " 'cameron.smith2.0@mail.test',\n",
       " 'jamie.brown5.0@mail.test',\n",
       " 'casey.king4.0@sample.net',\n",
       " 'morgan.brown0.0@mail.test',\n",
       " 'morgan.thomas7.0@sample.net',\n",
       " 'cameron.clark5.0@demo.org',\n",
       " 'taylor.jackson6.0@demo.org',\n",
       " 'parker.taylor7.0@sample.net',\n",
       " 'elliot.taylor0.0@mail.test',\n",
       " 'cameron.clark7.0@sample.net',\n",
       " 'rowan.young2.0@no-reply.io',\n",
       " 'cameron.taylor3.0@example.com',\n",
       " 'chris.smith8.0@demo.org',\n",
       " 'chris.clark9.0@no-reply.io',\n",
       " 'drew.clark5.0@demo.org',\n",
       " 'casey.allen3.0@sample.net',\n",
       " 'elliot.allen5.0@example.com',\n",
       " 'riley.taylor1.0@example.com',\n",
       " 'blake.white0.0@mail.test',\n",
       " 'taylor.smith9.0@example.com',\n",
       " 'riley.king5.0@sample.net',\n",
       " 'jamie.thompson6.0@mail.test',\n",
       " 'chris.clark0.0@no-reply.io',\n",
       " 'reese.king4.0@example.com',\n",
       " 'jamie.brown6.0@no-reply.io',\n",
       " 'elliot.walker3.0@demo.org',\n",
       " 'logan.brown9.0@example.com',\n",
       " 'parker.king5.0@no-reply.io',\n",
       " 'taylor.thomas2.0@mail.test',\n",
       " 'avery.clark1.0@no-reply.io',\n",
       " 'drew.martin3.0@demo.org',\n",
       " 'alex.anderson6.0@example.com',\n",
       " 'cameron.brown9.0@no-reply.io',\n",
       " 'casey.allen6.0@no-reply.io',\n",
       " 'taylor.smith2.0@mail.test',\n",
       " 'riley.white3.0@sample.net',\n",
       " 'morgan.allen6.0@sample.net',\n",
       " 'sam.lee3.0@example.com',\n",
       " 'logan.allen9.0@example.com',\n",
       " 'morgan.thomas0.0@no-reply.io',\n",
       " 'blake.king6.0@demo.org',\n",
       " 'sam.thomas7.0@example.com',\n",
       " 'jordan.lewis9.0@no-reply.io',\n",
       " 'logan.brown6.0@demo.org',\n",
       " 'hayden.brown1.0@demo.org',\n",
       " 'rowan.walker9.0@demo.org',\n",
       " 'sam.walker8.0@example.com',\n",
       " 'parker.garcia6.0@example.com',\n",
       " 'blake.garcia7.0@no-reply.io',\n",
       " 'drew.thomas2.0@no-reply.io',\n",
       " 'reese.taylor5.0@demo.org',\n",
       " 'parker.king7.0@sample.net',\n",
       " 'reese.lewis1.0@demo.org',\n",
       " 'morgan.johnson4.0@no-reply.io',\n",
       " 'parker.young8.0@example.com',\n",
       " 'blake.taylor4.0@mail.test',\n",
       " 'morgan.lewis2.0@example.com',\n",
       " 'avery.taylor8.0@demo.org',\n",
       " 'hayden.brown5.0@sample.net',\n",
       " 'blake.johnson8.0@mail.test',\n",
       " 'cameron.walker0.0@demo.org',\n",
       " 'alex.thompson6.0@no-reply.io',\n",
       " 'rowan.white5.0@example.com',\n",
       " 'parker.young2.0@mail.test',\n",
       " 'alex.king5.0@example.com',\n",
       " 'sam.johnson5.0@example.com',\n",
       " 'casey.walker7.0@demo.org',\n",
       " 'blake.johnson4.0@sample.net',\n",
       " 'alex.thomas6.0@example.com',\n",
       " 'jamie.taylor9.0@sample.net',\n",
       " 'drew.clark5.0@no-reply.io',\n",
       " 'parker.jackson3.0@demo.org',\n",
       " 'reese.king5.0@mail.test',\n",
       " 'elliot.thomas5.0@example.com',\n",
       " 'drew.young3.0@example.com',\n",
       " 'riley.harris9.0@example.com',\n",
       " 'sam.thomas5.0@sample.net',\n",
       " 'cameron.thomas6.0@no-reply.io',\n",
       " 'casey.hall1.0@demo.org',\n",
       " 'casey.anderson8.0@mail.test',\n",
       " 'elliot.harris9.0@mail.test',\n",
       " 'reese.hall6.0@demo.org',\n",
       " 'quinn.lee7.0@demo.org',\n",
       " 'taylor.walker0.0@sample.net',\n",
       " 'jordan.clark2.0@demo.org',\n",
       " 'cameron.white4.0@no-reply.io',\n",
       " 'rowan.lewis4.0@demo.org',\n",
       " 'avery.clark6.0@demo.org',\n",
       " 'blake.martin8.0@example.com',\n",
       " 'parker.walker9.0@mail.test',\n",
       " 'blake.jackson5.0@demo.org',\n",
       " 'parker.young1.0@no-reply.io',\n",
       " 'blake.jackson1.0@no-reply.io',\n",
       " 'sam.martin6.0@demo.org',\n",
       " 'quinn.allen2.0@demo.org',\n",
       " 'alex.thomas6.0@no-reply.io',\n",
       " 'jordan.taylor0.0@demo.org',\n",
       " 'hayden.hall9.0@no-reply.io',\n",
       " 'reese.lee8.0@demo.org',\n",
       " 'taylor.thompson5.0@example.com',\n",
       " 'riley.garcia3.0@sample.net',\n",
       " 'taylor.garcia3.0@no-reply.io',\n",
       " 'parker.martin8.0@example.com',\n",
       " 'elliot.jackson9.0@demo.org',\n",
       " 'morgan.clark2.0@sample.net',\n",
       " 'jamie.anderson7.0@no-reply.io',\n",
       " 'elliot.thompson6.0@example.com',\n",
       " 'blake.anderson1.0@example.com',\n",
       " 'chris.anderson9.0@example.com',\n",
       " 'cameron.hall9.0@example.com',\n",
       " 'chris.thompson1.0@no-reply.io',\n",
       " 'drew.young9.0@demo.org',\n",
       " 'alex.walker5.0@sample.net',\n",
       " 'reese.anderson3.0@no-reply.io',\n",
       " 'morgan.lewis5.0@no-reply.io',\n",
       " 'reese.allen9.0@sample.net',\n",
       " 'jordan.thomas8.0@mail.test',\n",
       " 'avery.taylor8.0@mail.test',\n",
       " 'cameron.thomas7.0@mail.test',\n",
       " 'taylor.walker4.0@mail.test',\n",
       " 'logan.walker0.0@demo.org',\n",
       " 'chris.brown6.0@no-reply.io',\n",
       " 'blake.taylor0.0@no-reply.io',\n",
       " 'jamie.johnson9.0@mail.test',\n",
       " 'avery.martin6.0@example.com',\n",
       " 'alex.taylor9.0@sample.net',\n",
       " 'riley.white2.0@demo.org',\n",
       " 'jamie.anderson2.0@example.com',\n",
       " 'parker.brown9.0@demo.org',\n",
       " 'taylor.lewis4.0@demo.org',\n",
       " 'casey.martin4.0@demo.org',\n",
       " 'alex.smith2.0@no-reply.io',\n",
       " 'reese.thompson8.0@sample.net',\n",
       " 'reese.lewis9.0@demo.org',\n",
       " 'quinn.allen2.0@demo.org',\n",
       " 'morgan.lewis5.0@demo.org',\n",
       " 'parker.martin2.0@mail.test',\n",
       " 'morgan.young0.0@sample.net',\n",
       " 'hayden.harris4.0@mail.test',\n",
       " 'quinn.young7.0@example.com',\n",
       " 'rowan.thompson1.0@demo.org',\n",
       " 'avery.thompson0.0@example.com',\n",
       " 'alex.harris6.0@example.com',\n",
       " 'jordan.walker8.0@example.com',\n",
       " 'drew.white7.0@example.com',\n",
       " 'reese.lewis0.0@example.com',\n",
       " 'parker.harris3.0@example.com',\n",
       " 'elliot.anderson2.0@no-reply.io',\n",
       " 'casey.brown6.0@demo.org',\n",
       " 'avery.white8.0@example.com',\n",
       " 'jamie.johnson7.0@demo.org',\n",
       " 'jamie.brown1.0@no-reply.io',\n",
       " 'alex.garcia9.0@no-reply.io',\n",
       " 'avery.lewis4.0@example.com',\n",
       " 'rowan.anderson1.0@sample.net',\n",
       " 'rowan.harris4.0@sample.net',\n",
       " 'avery.thompson8.0@mail.test',\n",
       " 'blake.thomas0.0@sample.net',\n",
       " 'drew.martin6.0@no-reply.io',\n",
       " 'cameron.brown3.0@mail.test',\n",
       " 'rowan.anderson2.0@no-reply.io',\n",
       " 'chris.martin9.0@mail.test',\n",
       " 'casey.jackson6.0@sample.net',\n",
       " 'morgan.jackson7.0@mail.test',\n",
       " 'chris.clark4.0@mail.test',\n",
       " 'chris.thompson5.0@example.com',\n",
       " 'drew.garcia3.0@demo.org',\n",
       " 'rowan.garcia1.0@mail.test',\n",
       " 'alex.thompson5.0@example.com',\n",
       " 'hayden.allen2.0@sample.net',\n",
       " 'rowan.walker5.0@mail.test',\n",
       " 'jamie.thompson6.0@no-reply.io',\n",
       " 'hayden.lewis0.0@demo.org',\n",
       " 'chris.allen1.0@demo.org',\n",
       " 'parker.johnson4.0@demo.org',\n",
       " 'blake.lee4.0@example.com',\n",
       " 'cameron.taylor1.0@no-reply.io',\n",
       " 'rowan.lewis7.0@example.com',\n",
       " 'sam.anderson5.0@example.com',\n",
       " 'jordan.young1.0@sample.net',\n",
       " 'jordan.young1.0@no-reply.io',\n",
       " 'quinn.lee7.0@no-reply.io',\n",
       " 'rowan.thompson9.0@no-reply.io',\n",
       " 'chris.hall5.0@mail.test',\n",
       " 'cameron.thompson0.0@demo.org',\n",
       " 'cameron.walker0.0@mail.test',\n",
       " 'avery.young7.0@demo.org',\n",
       " 'hayden.clark4.0@demo.org',\n",
       " 'jamie.young8.0@demo.org',\n",
       " 'drew.taylor5.0@mail.test',\n",
       " 'parker.harris0.0@example.com',\n",
       " 'casey.clark9.0@example.com',\n",
       " 'taylor.young7.0@mail.test',\n",
       " 'logan.white4.0@demo.org',\n",
       " 'parker.young9.0@demo.org',\n",
       " 'sam.thomas3.0@demo.org',\n",
       " 'taylor.lewis9.0@example.com',\n",
       " 'casey.smith4.0@no-reply.io',\n",
       " 'reese.brown4.0@demo.org',\n",
       " 'rowan.king0.0@no-reply.io',\n",
       " 'taylor.clark9.0@example.com',\n",
       " 'rowan.lewis9.0@sample.net',\n",
       " 'alex.young0.0@mail.test',\n",
       " 'rowan.allen3.0@sample.net',\n",
       " 'rowan.garcia2.0@example.com',\n",
       " 'avery.taylor6.0@sample.net',\n",
       " 'jordan.lewis0.0@mail.test',\n",
       " 'rowan.thomas5.0@mail.test',\n",
       " 'elliot.thomas5.0@sample.net',\n",
       " 'jordan.lee7.0@sample.net',\n",
       " 'avery.allen1.0@sample.net',\n",
       " 'reese.anderson0.0@no-reply.io',\n",
       " 'parker.thompson6.0@no-reply.io',\n",
       " 'quinn.anderson4.0@sample.net',\n",
       " 'hayden.taylor9.0@sample.net',\n",
       " 'riley.anderson2.0@sample.net',\n",
       " 'elliot.clark1.0@example.com',\n",
       " 'reese.king9.0@sample.net',\n",
       " 'quinn.smith4.0@example.com',\n",
       " 'logan.johnson7.0@demo.org',\n",
       " 'cameron.thomas1.0@no-reply.io',\n",
       " 'elliot.young8.0@demo.org',\n",
       " 'quinn.lee8.0@example.com',\n",
       " 'parker.martin5.0@mail.test',\n",
       " 'cameron.hall5.0@example.com',\n",
       " 'drew.taylor2.0@example.com',\n",
       " 'morgan.king1.0@example.com',\n",
       " 'alex.harris8.0@example.com',\n",
       " 'cameron.thomas2.0@demo.org',\n",
       " 'logan.clark4.0@mail.test',\n",
       " 'morgan.lee6.0@example.com',\n",
       " 'jordan.lewis4.0@sample.net',\n",
       " 'casey.johnson6.0@no-reply.io',\n",
       " 'jordan.white4.0@no-reply.io',\n",
       " 'logan.martin6.0@sample.net',\n",
       " 'reese.white5.0@demo.org',\n",
       " 'quinn.white9.0@sample.net',\n",
       " 'rowan.anderson3.0@mail.test',\n",
       " 'avery.hall3.0@no-reply.io',\n",
       " 'jordan.lee9.0@mail.test',\n",
       " 'avery.young0.0@example.com',\n",
       " 'hayden.anderson4.0@mail.test',\n",
       " 'hayden.martin7.0@mail.test',\n",
       " 'blake.thompson5.0@sample.net',\n",
       " 'reese.lee0.0@sample.net',\n",
       " 'casey.harris9.0@demo.org',\n",
       " 'avery.young6.0@sample.net',\n",
       " 'jordan.lewis0.0@demo.org',\n",
       " 'casey.harris3.0@no-reply.io',\n",
       " 'elliot.walker9.0@mail.test',\n",
       " 'chris.hall3.0@sample.net',\n",
       " 'hayden.hall3.0@example.com',\n",
       " 'logan.thompson1.0@example.com',\n",
       " 'alex.walker3.0@mail.test',\n",
       " 'chris.thomas1.0@demo.org',\n",
       " 'jamie.thompson7.0@mail.test',\n",
       " 'rowan.brown7.0@sample.net',\n",
       " 'elliot.thompson6.0@example.com',\n",
       " 'alex.smith7.0@example.com',\n",
       " 'parker.lee7.0@no-reply.io',\n",
       " 'quinn.smith6.0@mail.test',\n",
       " 'jamie.young5.0@no-reply.io',\n",
       " 'logan.king8.0@example.com',\n",
       " 'blake.jackson0.0@sample.net',\n",
       " 'rowan.thomas1.0@sample.net',\n",
       " 'reese.brown2.0@mail.test',\n",
       " 'cameron.lee4.0@demo.org',\n",
       " 'rowan.thomas7.0@no-reply.io',\n",
       " 'drew.thompson9.0@demo.org',\n",
       " 'jamie.brown3.0@mail.test',\n",
       " 'parker.harris4.0@mail.test',\n",
       " 'alex.clark2.0@no-reply.io',\n",
       " 'chris.young2.0@no-reply.io',\n",
       " 'elliot.white4.0@mail.test',\n",
       " 'drew.young7.0@demo.org',\n",
       " 'taylor.walker5.0@no-reply.io',\n",
       " 'elliot.clark3.0@mail.test',\n",
       " 'quinn.johnson0.0@no-reply.io',\n",
       " 'quinn.harris8.0@no-reply.io',\n",
       " 'rowan.smith3.0@example.com',\n",
       " 'morgan.allen8.0@mail.test',\n",
       " 'riley.taylor7.0@mail.test',\n",
       " 'taylor.king2.0@example.com',\n",
       " 'quinn.king8.0@sample.net',\n",
       " 'blake.taylor3.0@mail.test',\n",
       " 'sam.thomas4.0@mail.test',\n",
       " 'quinn.hall7.0@example.com',\n",
       " 'hayden.garcia7.0@sample.net',\n",
       " 'logan.anderson1.0@example.com',\n",
       " 'reese.harris4.0@no-reply.io',\n",
       " 'morgan.martin3.0@example.com',\n",
       " 'cameron.lewis0.0@demo.org',\n",
       " 'hayden.johnson5.0@demo.org',\n",
       " 'blake.thomas0.0@mail.test',\n",
       " 'sam.allen0.0@no-reply.io',\n",
       " 'rowan.clark0.0@example.com',\n",
       " 'jamie.anderson3.0@demo.org',\n",
       " 'jamie.hall2.0@no-reply.io',\n",
       " 'rowan.thomas2.0@mail.test',\n",
       " 'elliot.white2.0@sample.net',\n",
       " 'blake.thomas2.0@sample.net',\n",
       " 'quinn.allen9.0@mail.test',\n",
       " 'morgan.johnson6.0@demo.org',\n",
       " 'riley.young2.0@example.com',\n",
       " 'logan.brown5.0@example.com',\n",
       " 'jordan.walker7.0@no-reply.io',\n",
       " 'blake.garcia4.0@mail.test',\n",
       " 'taylor.white6.0@example.com',\n",
       " 'sam.jackson5.0@no-reply.io',\n",
       " 'rowan.jackson3.0@demo.org',\n",
       " 'cameron.lewis4.0@mail.test',\n",
       " 'blake.johnson6.0@demo.org',\n",
       " 'jordan.hall0.0@example.com',\n",
       " 'casey.brown1.0@sample.net',\n",
       " 'avery.thomas0.0@no-reply.io',\n",
       " 'cameron.harris7.0@mail.test',\n",
       " 'blake.harris9.0@sample.net',\n",
       " 'sam.harris3.0@example.com',\n",
       " 'casey.lee8.0@example.com',\n",
       " 'cameron.lee7.0@no-reply.io']"
      ]
     },
     "execution_count": 31,
     "metadata": {},
     "output_type": "execute_result"
    }
   ],
   "source": [
    "%run most_active.py\n",
    "# Here the correct arguments should be added\n",
    "most_active(customers)"
   ]
  },
  {
   "cell_type": "markdown",
   "id": "2739326b",
   "metadata": {},
   "source": [
    "#### 16) Create the **`parenthood_marketing`** function, which takes two Pandas DataFrames as input: the retail DataFrame and the customer DataFrame. The function should **return a list of 5 strings representing the countries with the highest average number of children among their customers.**\n"
   ]
  },
  {
   "cell_type": "code",
   "execution_count": 32,
   "id": "e08de44a",
   "metadata": {},
   "outputs": [
    {
     "name": "stdout",
     "output_type": "stream",
     "text": [
      "Writing parenthood_marketing.py\n"
     ]
    }
   ],
   "source": [
    "%%writefile parenthood_marketing.py\n",
    "import pandas as pd\n",
    "from typing import List\n",
    "\n",
    "def parenthood_marketing(df, customers) -> List[str]:\n",
    "    df = df.copy()\n",
    "    customers = customers.copy()\n",
    "\n",
    "    # Merge retail and customer info on CustomerID\n",
    "    merged = pd.merge(df[[\"CustomerID\", \"Country\"]], customers[[\"CustomerID\", \"NumChildren\"]], on=\"CustomerID\", how=\"inner\")\n",
    "\n",
    "    # Keep one record per customer-country to avoid counting the same customer multiple times\n",
    "    merged_unique = merged.drop_duplicates(subset=[\"CustomerID\", \"Country\"])\n",
    "\n",
    "    # Average number of children per country\n",
    "    avg_children = merged_unique.groupby(\"Country\")[\"NumChildren\"].mean()\n",
    "\n",
    "    # Top 5 countries with highest average\n",
    "    top_5 = avg_children.sort_values(ascending=False).head(5)\n",
    "\n",
    "    # Return country names as list\n",
    "    return list(top_5.index)"
   ]
  },
  {
   "cell_type": "markdown",
   "id": "edb52248",
   "metadata": {},
   "source": [
    "#### Call your `parenthood_marketing` function on the now cleaned `df` and `customers` below to view the results:"
   ]
  },
  {
   "cell_type": "code",
   "execution_count": 33,
   "id": "daec1caa",
   "metadata": {},
   "outputs": [
    {
     "data": {
      "text/plain": [
       "['Italy', 'Denmark', 'Netherlands', 'Lithuania', 'Finland']"
      ]
     },
     "execution_count": 33,
     "metadata": {},
     "output_type": "execute_result"
    }
   ],
   "source": [
    "%run parenthood_marketing.py\n",
    "# Here the correct arguments should be added\n",
    "parenthood_marketing(df, customers)"
   ]
  },
  {
   "cell_type": "markdown",
   "id": "10a07393",
   "metadata": {},
   "source": [
    "#### 17) Create the **`babuska_clients`** function, which takes two Pandas DataFrames as input: the retail DataFrame and the customer DataFrame. The function should **return a float representing the average age of the customers who purchased the** **`\"HAND WARMER BABUSHKA DESIGN\"`** **item.**\n"
   ]
  },
  {
   "cell_type": "code",
   "execution_count": 34,
   "id": "23afdfc7",
   "metadata": {},
   "outputs": [
    {
     "name": "stdout",
     "output_type": "stream",
     "text": [
      "Writing babuska_clients.py\n"
     ]
    }
   ],
   "source": [
    "%%writefile babuska_clients.py\n",
    "import pandas as pd\n",
    "\n",
    "def babuska_clients(df, customers) -> float:\n",
    "    df = df.copy()\n",
    "    customers = customers.copy()\n",
    "\n",
    "    # Filter only the rows where the product is \"HAND WARMER BABUSHKA DESIGN\"\n",
    "    babuska_sales = df[df[\"Description\"] == \"HAND WARMER BABUSHKA DESIGN\"]\n",
    "\n",
    "    # Get the unique CustomerIDs who bought this product\n",
    "    babuska_customers = babuska_sales[\"CustomerID\"].unique()\n",
    "\n",
    "    # Filter the customers DataFrame to keep only these clients\n",
    "    babuska_info = customers[customers[\"CustomerID\"].isin(babuska_customers)]\n",
    "\n",
    "    # Return the average age of these customers\n",
    "    return babuska_info[\"Age\"].mean()"
   ]
  },
  {
   "cell_type": "markdown",
   "id": "74bb3126",
   "metadata": {},
   "source": [
    "#### Call your `babuska_clients` function on the now cleaned `df` and `customers` below to view the results:"
   ]
  },
  {
   "cell_type": "code",
   "execution_count": 35,
   "id": "4324ab02",
   "metadata": {},
   "outputs": [
    {
     "data": {
      "text/plain": [
       "np.float64(47.24561403508772)"
      ]
     },
     "execution_count": 35,
     "metadata": {},
     "output_type": "execute_result"
    }
   ],
   "source": [
    "%run babuska_clients.py\n",
    "# Here the correct arguments should be added\n",
    "babuska_clients(df, customers)"
   ]
  },
  {
   "cell_type": "markdown",
   "id": "27868003",
   "metadata": {},
   "source": [
    "# Part III"
   ]
  },
  {
   "cell_type": "markdown",
   "id": "078bfa26",
   "metadata": {},
   "source": [
    "#### 18) Create the **`read_sport_dfs(teams_filepath: str, managers_filepath: str)`** function which loads the **`managers.csv`** and the **`teams.csv`** file into two Pandas DataFrames and returns them. Call this function and save the results into DataFrames named **`teams`** and **`managers`** respectively.\n"
   ]
  },
  {
   "cell_type": "code",
   "execution_count": 36,
   "id": "4685d2fd",
   "metadata": {},
   "outputs": [
    {
     "name": "stdout",
     "output_type": "stream",
     "text": [
      "Writing read_sport_dfs.py\n"
     ]
    }
   ],
   "source": [
    "%%writefile read_sport_dfs.py\n",
    "import pandas as pd\n",
    "from typing import Tuple\n",
    "\n",
    "def read_sport_dfs(teams_filepath: str, managers_filepath: str) -> Tuple[pd.DataFrame]:\n",
    "    # Load both CSV files into DataFrames\n",
    "    teams = pd.read_csv(teams_filepath)\n",
    "    managers = pd.read_csv(managers_filepath)\n",
    "\n",
    "    # Return them as a tuple\n",
    "    return teams, managers"
   ]
  },
  {
   "cell_type": "code",
   "execution_count": 37,
   "id": "0cddd857",
   "metadata": {},
   "outputs": [],
   "source": [
    "# Use the loading function with the file paths. Replace '...' with the correct paths. They should reside in your current working directory.\n",
    "%run read_sport_dfs.py\n",
    "# Here the correct arguments should be added\n",
    "teams, managers = read_sport_dfs(\"Teams.csv\", \"Managers.csv\")"
   ]
  },
  {
   "cell_type": "markdown",
   "id": "066e66d3",
   "metadata": {},
   "source": [
    "#### 19) Create the **`go_sports`** function, which takes two Pandas DataFrames as input: the teams DataFrame and the manager DataFrame. This function **returns a DataFrame containing only the team name, its managerID, the year (yearID) in the ```yyyy``` format, the number of wins (`W`) per team and team number of losses (`L`) per team.**\n"
   ]
  },
  {
   "cell_type": "code",
   "execution_count": 38,
   "id": "cf105054",
   "metadata": {},
   "outputs": [
    {
     "name": "stdout",
     "output_type": "stream",
     "text": [
      "Writing go_sports.py\n"
     ]
    }
   ],
   "source": [
    "%%writefile go_sports.py\n",
    "import pandas as pd\n",
    "\n",
    "def go_sports(teams, managers) -> pd.DataFrame:\n",
    "    teams = teams.copy()\n",
    "    managers = managers.copy()\n",
    "    \n",
    "    #(one is yyyy and the other is yyyy-mm-dd)\n",
    "    teams[\"yearID\"] = pd.to_datetime(teams[\"yearID\"]).dt.year.astype(\"Int64\")\n",
    "    managers[\"yearID\"] = managers[\"yearID\"].astype(\"Int64\")\n",
    "\n",
    "    # Merge teams with main managers on teamID and yearID\n",
    "    merged = pd.merge(\n",
    "        teams[[\"teamID\", \"name\", \"yearID\", \"W\", \"L\"]], #make sure W and L come from teams\n",
    "        managers[[\"teamID\", \"yearID\", \"managerID\"]],\n",
    "        on=[\"teamID\", \"yearID\"],\n",
    "        how=\"inner\"\n",
    "    )\n",
    "\n",
    "    # Keep only required columns\n",
    "    return merged[[\"name\", \"managerID\", \"yearID\", \"W\", \"L\"]]"
   ]
  },
  {
   "cell_type": "markdown",
   "id": "d916802f",
   "metadata": {},
   "source": [
    "#### Call your `go_sports` function with the `managers` and `teams` DataFrames below to view the results:"
   ]
  },
  {
   "cell_type": "code",
   "execution_count": 39,
   "id": "36859e14",
   "metadata": {},
   "outputs": [
    {
     "data": {
      "application/vnd.microsoft.datawrangler.viewer.v0+json": {
       "columns": [
        {
         "name": "index",
         "rawType": "int64",
         "type": "integer"
        },
        {
         "name": "name",
         "rawType": "object",
         "type": "string"
        },
        {
         "name": "managerID",
         "rawType": "object",
         "type": "string"
        },
        {
         "name": "yearID",
         "rawType": "Int64",
         "type": "integer"
        },
        {
         "name": "W",
         "rawType": "int64",
         "type": "integer"
        },
        {
         "name": "L",
         "rawType": "int64",
         "type": "integer"
        }
       ],
       "ref": "8a9b7492-f9dc-4bf2-b9a7-ac92d787e9c6",
       "rows": [
        [
         "0",
         "Boston Red Stockings",
         "wr ighha0 1m ",
         "1871",
         "20",
         "10"
        ],
        [
         "1",
         "Chicago White Stockings",
         "woodji0 1m ",
         "1871",
         "19",
         "9"
        ],
        [
         "2",
         "Cleveland Forest Citys",
         "p ab o r c h01m",
         "1871",
         "10",
         "19"
        ],
        [
         "3",
         "Fort Wayne Kekiongas",
         "lennobi01m",
         "1871",
         "7",
         "12"
        ],
        [
         "4",
         "Fort Wayne Kekiongas",
         "de an e ha01 m",
         "1871",
         "7",
         "12"
        ],
        [
         "5",
         "New York Mutuals",
         "ferg ubo01 m ",
         "1871",
         "16",
         "17"
        ],
        [
         "6",
         "Philadelphia Athletics",
         "mc bri di 0 1 m ",
         "1871",
         "21",
         "7"
        ],
        [
         "7",
         "Rockford Forest Citys",
         "hastisc01m",
         "1871",
         "4",
         "21"
        ],
        [
         "8",
         "Troy Haymakers",
         "pikeli01m",
         "1871",
         "13",
         "15"
        ],
        [
         "9",
         "Troy Haymakers",
         "c r ave b i0 1m",
         "1871",
         "13",
         "15"
        ],
        [
         "10",
         "Washington Olympics",
         "yo ung ni 99 m",
         "1871",
         "15",
         "15"
        ],
        [
         "11",
         "Baltimore Canaries",
         "c rav eb i0 1m",
         "1872",
         "35",
         "19"
        ],
        [
         "12",
         "Baltimore Canaries",
         "mi l ls ev 0 1 m",
         "1872",
         "35",
         "19"
        ],
        [
         "13",
         "Brooklyn Eckfords",
         "clintji01m",
         "1872",
         "3",
         "26"
        ],
        [
         "14",
         "Brooklyn Eckfords",
         "w oo dj i01m",
         "1872",
         "3",
         "26"
        ],
        [
         "15",
         "Brooklyn Atlantics",
         "fergubo01m",
         "1872",
         "9",
         "28"
        ],
        [
         "16",
         "Boston Red Stockings",
         "wrighha01m",
         "1872",
         "39",
         "8"
        ],
        [
         "17",
         "Cleveland Forest Citys",
         "hastisc01m",
         "1872",
         "6",
         "16"
        ],
        [
         "18",
         "Cleveland Forest Citys",
         "whi te d e01m",
         "1872",
         "6",
         "16"
        ],
        [
         "19",
         "Middletown Mansfields",
         "cl a ppjo 01m",
         "1872",
         "5",
         "19"
        ],
        [
         "20",
         "New York Mutuals",
         "p earc di0 1m",
         "1872",
         "34",
         "20"
        ],
        [
         "21",
         "New York Mutuals",
         "hatfijo01m",
         "1872",
         "34",
         "20"
        ],
        [
         "22",
         "Philadelphia Athletics",
         "mcbridi01m",
         "1872",
         "30",
         "14"
        ],
        [
         "23",
         "Troy Haymakers",
         "woodji01m",
         "1872",
         "15",
         "10"
        ],
        [
         "24",
         "Washington Olympics",
         "y oungn i 9 9m",
         "1872",
         "2",
         "7"
        ],
        [
         "25",
         "Washington Nationals",
         "millejo01m",
         "1872",
         "0",
         "11"
        ],
        [
         "26",
         "Baltimore Canaries",
         "m cvey c a 0 1 m",
         "1873",
         "34",
         "22"
        ],
        [
         "27",
         "Baltimore Canaries",
         "careyto01m",
         "1873",
         "34",
         "22"
        ],
        [
         "28",
         "Baltimore Marylands",
         "smithbi01m",
         "1873",
         "0",
         "6"
        ],
        [
         "29",
         "Brooklyn Atlantics",
         "f e r g u b o 01m",
         "1873",
         "17",
         "37"
        ],
        [
         "30",
         "Boston Red Stockings",
         "wrighha01m",
         "1873",
         "43",
         "16"
        ],
        [
         "31",
         "Elizabeth Resolutes",
         "allisdo01m",
         "1873",
         "2",
         "21"
        ],
        [
         "32",
         "New York Mutuals",
         "hatfijo01m",
         "1873",
         "29",
         "24"
        ],
        [
         "33",
         "New York Mutuals",
         "startjo01m",
         "1873",
         "29",
         "24"
        ],
        [
         "34",
         "Philadelphia Athletics",
         "mcbridi01m",
         "1873",
         "28",
         "23"
        ],
        [
         "35",
         "Philadelphia Whites",
         "malonf e0 1 m",
         "1873",
         "36",
         "17"
        ],
        [
         "36",
         "Philadelphia Whites",
         "wo o dji 0 1m ",
         "1873",
         "36",
         "17"
        ],
        [
         "37",
         "Washington Blue Legs",
         "youngni99m",
         "1873",
         "8",
         "31"
        ],
        [
         "38",
         "Baltimore Canaries",
         "whitewa01m",
         "1874",
         "9",
         "38"
        ],
        [
         "39",
         "Brooklyn Atlantics",
         "f e rgu b o 0 1m",
         "1874",
         "22",
         "33"
        ],
        [
         "40",
         "Boston Red Stockings",
         "wrighha01m",
         "1874",
         "52",
         "18"
        ],
        [
         "41",
         "Chicago White Stockings",
         "malo n fe 01m",
         "1874",
         "28",
         "31"
        ],
        [
         "42",
         "Chicago White Stockings",
         "woodji01m",
         "1874",
         "28",
         "31"
        ],
        [
         "43",
         "Hartford Dark Blues",
         "pikeli01m",
         "1874",
         "16",
         "37"
        ],
        [
         "44",
         "New York Mutuals",
         "c ar eyto0 1 m",
         "1874",
         "42",
         "23"
        ],
        [
         "45",
         "New York Mutuals",
         "highadi01m",
         "1874",
         "42",
         "23"
        ],
        [
         "46",
         "Philadelphia Athletics",
         "mc bri d i01m",
         "1874",
         "33",
         "22"
        ],
        [
         "47",
         "Philadelphia Whites",
         "craveb i01 m ",
         "1874",
         "29",
         "29"
        ],
        [
         "48",
         "Brooklyn Atlantics",
         "pa bor ch 01m ",
         "1875",
         "2",
         "42"
        ],
        [
         "49",
         "Brooklyn Atlantics",
         "boydbi01m",
         "1875",
         "2",
         "42"
        ]
       ],
       "shape": {
        "columns": 5,
        "rows": 3274
       }
      },
      "text/html": [
       "<div>\n",
       "<style scoped>\n",
       "    .dataframe tbody tr th:only-of-type {\n",
       "        vertical-align: middle;\n",
       "    }\n",
       "\n",
       "    .dataframe tbody tr th {\n",
       "        vertical-align: top;\n",
       "    }\n",
       "\n",
       "    .dataframe thead th {\n",
       "        text-align: right;\n",
       "    }\n",
       "</style>\n",
       "<table border=\"1\" class=\"dataframe\">\n",
       "  <thead>\n",
       "    <tr style=\"text-align: right;\">\n",
       "      <th></th>\n",
       "      <th>name</th>\n",
       "      <th>managerID</th>\n",
       "      <th>yearID</th>\n",
       "      <th>W</th>\n",
       "      <th>L</th>\n",
       "    </tr>\n",
       "  </thead>\n",
       "  <tbody>\n",
       "    <tr>\n",
       "      <th>0</th>\n",
       "      <td>Boston Red Stockings</td>\n",
       "      <td>wr ighha0 1m</td>\n",
       "      <td>1871</td>\n",
       "      <td>20</td>\n",
       "      <td>10</td>\n",
       "    </tr>\n",
       "    <tr>\n",
       "      <th>1</th>\n",
       "      <td>Chicago White Stockings</td>\n",
       "      <td>woodji0 1m</td>\n",
       "      <td>1871</td>\n",
       "      <td>19</td>\n",
       "      <td>9</td>\n",
       "    </tr>\n",
       "    <tr>\n",
       "      <th>2</th>\n",
       "      <td>Cleveland Forest Citys</td>\n",
       "      <td>p ab o r c h01m</td>\n",
       "      <td>1871</td>\n",
       "      <td>10</td>\n",
       "      <td>19</td>\n",
       "    </tr>\n",
       "    <tr>\n",
       "      <th>3</th>\n",
       "      <td>Fort Wayne Kekiongas</td>\n",
       "      <td>lennobi01m</td>\n",
       "      <td>1871</td>\n",
       "      <td>7</td>\n",
       "      <td>12</td>\n",
       "    </tr>\n",
       "    <tr>\n",
       "      <th>4</th>\n",
       "      <td>Fort Wayne Kekiongas</td>\n",
       "      <td>de an e ha01 m</td>\n",
       "      <td>1871</td>\n",
       "      <td>7</td>\n",
       "      <td>12</td>\n",
       "    </tr>\n",
       "    <tr>\n",
       "      <th>...</th>\n",
       "      <td>...</td>\n",
       "      <td>...</td>\n",
       "      <td>...</td>\n",
       "      <td>...</td>\n",
       "      <td>...</td>\n",
       "    </tr>\n",
       "    <tr>\n",
       "      <th>3269</th>\n",
       "      <td>Arizona Diamondbacks</td>\n",
       "      <td>gibso k i01 m</td>\n",
       "      <td>2011</td>\n",
       "      <td>94</td>\n",
       "      <td>68</td>\n",
       "    </tr>\n",
       "    <tr>\n",
       "      <th>3270</th>\n",
       "      <td>San Francisco Giants</td>\n",
       "      <td>bochybr 0 1 m</td>\n",
       "      <td>2011</td>\n",
       "      <td>86</td>\n",
       "      <td>76</td>\n",
       "    </tr>\n",
       "    <tr>\n",
       "      <th>3271</th>\n",
       "      <td>Los Angeles Dodgers</td>\n",
       "      <td>mat tido 0 1 m</td>\n",
       "      <td>2011</td>\n",
       "      <td>82</td>\n",
       "      <td>79</td>\n",
       "    </tr>\n",
       "    <tr>\n",
       "      <th>3272</th>\n",
       "      <td>Colorado Rockies</td>\n",
       "      <td>tracyji01m</td>\n",
       "      <td>2011</td>\n",
       "      <td>73</td>\n",
       "      <td>89</td>\n",
       "    </tr>\n",
       "    <tr>\n",
       "      <th>3273</th>\n",
       "      <td>San Diego Padres</td>\n",
       "      <td>bl ackbu 0 2m</td>\n",
       "      <td>2011</td>\n",
       "      <td>71</td>\n",
       "      <td>91</td>\n",
       "    </tr>\n",
       "  </tbody>\n",
       "</table>\n",
       "<p>3274 rows × 5 columns</p>\n",
       "</div>"
      ],
      "text/plain": [
       "                         name        managerID  yearID   W   L\n",
       "0        Boston Red Stockings    wr ighha0 1m     1871  20  10\n",
       "1     Chicago White Stockings      woodji0 1m     1871  19   9\n",
       "2      Cleveland Forest Citys  p ab o r c h01m    1871  10  19\n",
       "3        Fort Wayne Kekiongas       lennobi01m    1871   7  12\n",
       "4        Fort Wayne Kekiongas   de an e ha01 m    1871   7  12\n",
       "...                       ...              ...     ...  ..  ..\n",
       "3269     Arizona Diamondbacks    gibso k i01 m    2011  94  68\n",
       "3270     San Francisco Giants   bochybr 0 1 m     2011  86  76\n",
       "3271      Los Angeles Dodgers   mat tido 0 1 m    2011  82  79\n",
       "3272         Colorado Rockies       tracyji01m    2011  73  89\n",
       "3273         San Diego Padres   bl ackbu 0 2m     2011  71  91\n",
       "\n",
       "[3274 rows x 5 columns]"
      ]
     },
     "execution_count": 39,
     "metadata": {},
     "output_type": "execute_result"
    }
   ],
   "source": [
    "%run go_sports.py\n",
    "# Here the correct arguments should be added\n",
    "go_sports(teams, managers)"
   ]
  },
  {
   "cell_type": "markdown",
   "id": "ead0d563",
   "metadata": {},
   "source": [
    "#### 20) Create the **`go_manager`** function, which takes two Pandas DataFrames as input: the teams DataFrame and the manager DataFrame. This function first calls the `go_sports` function with managers and teams input and then saves the result in a variable called sports. Then, this function **returns the ID (`managerID`) as a correct string of the manager who has most wins (`W`) over their careers.**\n"
   ]
  },
  {
   "cell_type": "code",
   "execution_count": 40,
   "id": "5ed568e5",
   "metadata": {},
   "outputs": [
    {
     "name": "stdout",
     "output_type": "stream",
     "text": [
      "Writing go_manager.py\n"
     ]
    }
   ],
   "source": [
    "%%writefile go_manager.py\n",
    "import pandas as pd\n",
    "from go_sports import go_sports\n",
    "\n",
    "def go_manager(teams, managers) -> str:\n",
    "    \n",
    "    sports = go_sports(teams, managers)\n",
    "    \n",
    "    # Sum wins per manager over all seasons\n",
    "    wins_per_manager = sports.groupby(\"managerID\")[\"W\"].sum()\n",
    "    \n",
    "    # Get the managerID with the highest total wins\n",
    "    top_manager = wins_per_manager.idxmax()\n",
    "    \n",
    "    # Return as string (contract asks for correct string)\n",
    "    return str(top_manager)"
   ]
  },
  {
   "cell_type": "markdown",
   "id": "968ce3bc",
   "metadata": {},
   "source": [
    "#### Call your `go_manager` function with the `managers` and `teams` DataFrames below to view the results:"
   ]
  },
  {
   "cell_type": "code",
   "execution_count": 41,
   "id": "7c877f03",
   "metadata": {},
   "outputs": [
    {
     "data": {
      "text/plain": [
       "'mcgrajo01m'"
      ]
     },
     "execution_count": 41,
     "metadata": {},
     "output_type": "execute_result"
    }
   ],
   "source": [
    "%run go_manager.py\n",
    "# Here the correct arguments should be added\n",
    "go_manager(teams, managers)"
   ]
  }
 ],
 "metadata": {
  "kernelspec": {
   "display_name": "Fall2526",
   "language": "python",
   "name": "python3"
  },
  "language_info": {
   "codemirror_mode": {
    "name": "ipython",
    "version": 3
   },
   "file_extension": ".py",
   "mimetype": "text/x-python",
   "name": "python",
   "nbconvert_exporter": "python",
   "pygments_lexer": "ipython3",
   "version": "3.12.11"
  }
 },
 "nbformat": 4,
 "nbformat_minor": 5
}
