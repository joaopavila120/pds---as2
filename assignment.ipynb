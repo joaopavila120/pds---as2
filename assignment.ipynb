{
 "cells": [
  {
   "cell_type": "markdown",
   "id": "c448d013",
   "metadata": {},
   "source": [
    "# Welcome to Homework II"
   ]
  },
  {
   "cell_type": "markdown",
   "id": "ed9c466d",
   "metadata": {},
   "source": [
    "### Please read the instructions in both the instructions.pdf (on Moodle) and in this notebook very carefully!\n",
    "\n",
    "**The following instructions are binding**:\n",
    "\n",
    "* Other than ```pandas```, no further other library imports are allowed. Both third-party imports and builtin modules are not allowed.\n",
    "* Do not delete any of the ````%%writefile```` or ```%run``` statements.\n",
    "* The cells containing the function definitions and the ```%%writefile``` magic should not have any other code than the function definition and the pre-defined statements including ```%writefile``` and ```import pandas as pd```/```from typing import ...```.  Make sure that the cell defining the function is cleared of other code after implementing the function code.\n",
    "* Replace the `pass` placeholder with your own code.\n",
    "* Do **not** change any function names.\n",
    "* Do **not** modify or remove any existing line of code within each function, except that you may remove the `pass` placeholder.\n",
    "* Ensure each function receives the required input and returns the required output.\n",
    "* Answer the questions in order and and comment your code."
   ]
  },
  {
   "cell_type": "markdown",
   "id": "3451f0c5",
   "metadata": {},
   "source": [
    "## Student Number #1: 20250436"
   ]
  },
  {
   "cell_type": "markdown",
   "id": "aebbb512",
   "metadata": {},
   "source": [
    "## Student Number #2: ________"
   ]
  },
  {
   "cell_type": "markdown",
   "id": "80b94865",
   "metadata": {},
   "source": [
    "## Library import"
   ]
  },
  {
   "cell_type": "code",
   "execution_count": 63,
   "id": "723907a3",
   "metadata": {},
   "outputs": [],
   "source": [
    "import pandas as pd"
   ]
  },
  {
   "cell_type": "markdown",
   "id": "1abd793f",
   "metadata": {},
   "source": [
    "# Part I"
   ]
  },
  {
   "cell_type": "markdown",
   "id": "5164da8a",
   "metadata": {},
   "source": [
    "#### 1) Create the **`load_retail_data(filepath: str)`** function which loads the Online Retail file (onlineretail.csv) into a pandas DataFrame and returns it. Call this function and save the result into a DataFrame called **`df`**:"
   ]
  },
  {
   "cell_type": "code",
   "execution_count": 64,
   "id": "19b8052f",
   "metadata": {},
   "outputs": [
    {
     "name": "stdout",
     "output_type": "stream",
     "text": [
      "Overwriting load_retail_data.py\n"
     ]
    }
   ],
   "source": [
    "%%writefile load_retail_data.py\n",
    "import pandas as pd\n",
    "\n",
    "def load_retail_data(filepath: str) -> pd.DataFrame:\n",
    "    # Your code goes here\n",
    "    \n",
    "    # Using 'latin1' encoding to avoide decoding error - the csv have special characters\n",
    "    df = pd.read_csv(filepath, encoding=\"latin1\")\n",
    "\n",
    "    return df"
   ]
  },
  {
   "cell_type": "code",
   "execution_count": 65,
   "id": "d5adcbfa",
   "metadata": {},
   "outputs": [
    {
     "data": {
      "application/vnd.microsoft.datawrangler.viewer.v0+json": {
       "columns": [
        {
         "name": "index",
         "rawType": "int64",
         "type": "integer"
        },
        {
         "name": "InvoiceNo",
         "rawType": "object",
         "type": "string"
        },
        {
         "name": "StockCode",
         "rawType": "object",
         "type": "string"
        },
        {
         "name": "Description",
         "rawType": "object",
         "type": "string"
        },
        {
         "name": "Quantity",
         "rawType": "int64",
         "type": "integer"
        },
        {
         "name": "InvoiceDate",
         "rawType": "object",
         "type": "string"
        },
        {
         "name": "UnitPrice",
         "rawType": "float64",
         "type": "float"
        },
        {
         "name": "CustomerID",
         "rawType": "float64",
         "type": "float"
        },
        {
         "name": "Country",
         "rawType": "object",
         "type": "string"
        }
       ],
       "ref": "2babd36b-1ffa-48c7-ae7b-c6172f22981c",
       "rows": [
        [
         "0",
         "536365",
         "85123A",
         "WHITE HANGING HEART T-LIGHT HOLDER",
         "6",
         "12/1/2010 8:26",
         "2.55",
         "17850.0",
         "United Kingdom"
        ],
        [
         "1",
         "536365",
         "71053",
         "WHITE METAL LANTERN",
         "6",
         "12/1/2010 8:26",
         "3.39",
         "17850.0",
         "United Kingdom"
        ],
        [
         "2",
         "536365",
         "84406B",
         "CREAM CUPID HEARTS COAT HANGER",
         "8",
         "12/1/2010 8:26",
         "2.75",
         "17850.0",
         "United Kingdom"
        ],
        [
         "3",
         "536365",
         "84029G",
         "KNITTED UNION FLAG HOT WATER BOTTLE",
         "6",
         "12/1/2010 8:26",
         "3.39",
         "17850.0",
         "United Kingdom"
        ],
        [
         "4",
         "536365",
         "84029E",
         "RED WOOLLY HOTTIE WHITE HEART.",
         "6",
         "12/1/2010 8:26",
         "3.39",
         "17850.0",
         "United Kingdom"
        ]
       ],
       "shape": {
        "columns": 8,
        "rows": 5
       }
      },
      "text/html": [
       "<div>\n",
       "<style scoped>\n",
       "    .dataframe tbody tr th:only-of-type {\n",
       "        vertical-align: middle;\n",
       "    }\n",
       "\n",
       "    .dataframe tbody tr th {\n",
       "        vertical-align: top;\n",
       "    }\n",
       "\n",
       "    .dataframe thead th {\n",
       "        text-align: right;\n",
       "    }\n",
       "</style>\n",
       "<table border=\"1\" class=\"dataframe\">\n",
       "  <thead>\n",
       "    <tr style=\"text-align: right;\">\n",
       "      <th></th>\n",
       "      <th>InvoiceNo</th>\n",
       "      <th>StockCode</th>\n",
       "      <th>Description</th>\n",
       "      <th>Quantity</th>\n",
       "      <th>InvoiceDate</th>\n",
       "      <th>UnitPrice</th>\n",
       "      <th>CustomerID</th>\n",
       "      <th>Country</th>\n",
       "    </tr>\n",
       "  </thead>\n",
       "  <tbody>\n",
       "    <tr>\n",
       "      <th>0</th>\n",
       "      <td>536365</td>\n",
       "      <td>85123A</td>\n",
       "      <td>WHITE HANGING HEART T-LIGHT HOLDER</td>\n",
       "      <td>6</td>\n",
       "      <td>12/1/2010 8:26</td>\n",
       "      <td>2.55</td>\n",
       "      <td>17850.0</td>\n",
       "      <td>United Kingdom</td>\n",
       "    </tr>\n",
       "    <tr>\n",
       "      <th>1</th>\n",
       "      <td>536365</td>\n",
       "      <td>71053</td>\n",
       "      <td>WHITE METAL LANTERN</td>\n",
       "      <td>6</td>\n",
       "      <td>12/1/2010 8:26</td>\n",
       "      <td>3.39</td>\n",
       "      <td>17850.0</td>\n",
       "      <td>United Kingdom</td>\n",
       "    </tr>\n",
       "    <tr>\n",
       "      <th>2</th>\n",
       "      <td>536365</td>\n",
       "      <td>84406B</td>\n",
       "      <td>CREAM CUPID HEARTS COAT HANGER</td>\n",
       "      <td>8</td>\n",
       "      <td>12/1/2010 8:26</td>\n",
       "      <td>2.75</td>\n",
       "      <td>17850.0</td>\n",
       "      <td>United Kingdom</td>\n",
       "    </tr>\n",
       "    <tr>\n",
       "      <th>3</th>\n",
       "      <td>536365</td>\n",
       "      <td>84029G</td>\n",
       "      <td>KNITTED UNION FLAG HOT WATER BOTTLE</td>\n",
       "      <td>6</td>\n",
       "      <td>12/1/2010 8:26</td>\n",
       "      <td>3.39</td>\n",
       "      <td>17850.0</td>\n",
       "      <td>United Kingdom</td>\n",
       "    </tr>\n",
       "    <tr>\n",
       "      <th>4</th>\n",
       "      <td>536365</td>\n",
       "      <td>84029E</td>\n",
       "      <td>RED WOOLLY HOTTIE WHITE HEART.</td>\n",
       "      <td>6</td>\n",
       "      <td>12/1/2010 8:26</td>\n",
       "      <td>3.39</td>\n",
       "      <td>17850.0</td>\n",
       "      <td>United Kingdom</td>\n",
       "    </tr>\n",
       "  </tbody>\n",
       "</table>\n",
       "</div>"
      ],
      "text/plain": [
       "  InvoiceNo StockCode                          Description  Quantity  \\\n",
       "0    536365    85123A   WHITE HANGING HEART T-LIGHT HOLDER         6   \n",
       "1    536365     71053                  WHITE METAL LANTERN         6   \n",
       "2    536365    84406B       CREAM CUPID HEARTS COAT HANGER         8   \n",
       "3    536365    84029G  KNITTED UNION FLAG HOT WATER BOTTLE         6   \n",
       "4    536365    84029E       RED WOOLLY HOTTIE WHITE HEART.         6   \n",
       "\n",
       "      InvoiceDate  UnitPrice  CustomerID         Country  \n",
       "0  12/1/2010 8:26       2.55     17850.0  United Kingdom  \n",
       "1  12/1/2010 8:26       3.39     17850.0  United Kingdom  \n",
       "2  12/1/2010 8:26       2.75     17850.0  United Kingdom  \n",
       "3  12/1/2010 8:26       3.39     17850.0  United Kingdom  \n",
       "4  12/1/2010 8:26       3.39     17850.0  United Kingdom  "
      ]
     },
     "execution_count": 65,
     "metadata": {},
     "output_type": "execute_result"
    }
   ],
   "source": [
    "%run load_retail_data.py\n",
    "\n",
    "# Use the loading function with the file path. Replace '...' with the path to 'onlineretail.csv'\n",
    "df = load_retail_data(\"onlineretail.csv\")\n",
    "\n",
    "df.head()"
   ]
  },
  {
   "cell_type": "markdown",
   "id": "eab2032a",
   "metadata": {},
   "source": [
    "#### 2) Create the **`missing_values_cleaner`** function, which takes a Pandas DataFrame as input and **returns the same DataFrame after removing all rows that contain null values in the** **`CustomerID`** **or** **`Description`** **columns.** Ensure that only nulls in these two columns are dropped, without affecting rows that have null values in other columns.\n"
   ]
  },
  {
   "cell_type": "code",
   "execution_count": 66,
   "id": "4e76bff4",
   "metadata": {},
   "outputs": [
    {
     "name": "stdout",
     "output_type": "stream",
     "text": [
      "Overwriting missing_values_cleaner.py\n"
     ]
    }
   ],
   "source": [
    "%%writefile missing_values_cleaner.py\n",
    "import pandas as pd\n",
    "\n",
    "def missing_values_cleaner(df) -> pd.DataFrame:\n",
    "    \n",
    "    df = df.copy()\n",
    "    \n",
    "    # Drop rows where 'CustomerID' OR 'Description' has a missing value\n",
    "    df = df.dropna(subset=[\"CustomerID\", \"Description\"])\n",
    "    \n",
    "    return df"
   ]
  },
  {
   "cell_type": "markdown",
   "id": "fb67235d",
   "metadata": {},
   "source": [
    "#### Call your `missing_values_cleaner` function on the original `df` below to view the results:"
   ]
  },
  {
   "cell_type": "code",
   "execution_count": 67,
   "id": "cd5acfe6",
   "metadata": {},
   "outputs": [
    {
     "data": {
      "application/vnd.microsoft.datawrangler.viewer.v0+json": {
       "columns": [
        {
         "name": "index",
         "rawType": "int64",
         "type": "integer"
        },
        {
         "name": "InvoiceNo",
         "rawType": "object",
         "type": "string"
        },
        {
         "name": "StockCode",
         "rawType": "object",
         "type": "string"
        },
        {
         "name": "Description",
         "rawType": "object",
         "type": "string"
        },
        {
         "name": "Quantity",
         "rawType": "int64",
         "type": "integer"
        },
        {
         "name": "InvoiceDate",
         "rawType": "object",
         "type": "string"
        },
        {
         "name": "UnitPrice",
         "rawType": "float64",
         "type": "float"
        },
        {
         "name": "CustomerID",
         "rawType": "float64",
         "type": "float"
        },
        {
         "name": "Country",
         "rawType": "object",
         "type": "string"
        }
       ],
       "ref": "27381848-91c0-4657-ac48-10e2121cb824",
       "rows": [
        [
         "0",
         "536365",
         "85123A",
         "WHITE HANGING HEART T-LIGHT HOLDER",
         "6",
         "12/1/2010 8:26",
         "2.55",
         "17850.0",
         "United Kingdom"
        ],
        [
         "1",
         "536365",
         "71053",
         "WHITE METAL LANTERN",
         "6",
         "12/1/2010 8:26",
         "3.39",
         "17850.0",
         "United Kingdom"
        ],
        [
         "2",
         "536365",
         "84406B",
         "CREAM CUPID HEARTS COAT HANGER",
         "8",
         "12/1/2010 8:26",
         "2.75",
         "17850.0",
         "United Kingdom"
        ],
        [
         "3",
         "536365",
         "84029G",
         "KNITTED UNION FLAG HOT WATER BOTTLE",
         "6",
         "12/1/2010 8:26",
         "3.39",
         "17850.0",
         "United Kingdom"
        ],
        [
         "4",
         "536365",
         "84029E",
         "RED WOOLLY HOTTIE WHITE HEART.",
         "6",
         "12/1/2010 8:26",
         "3.39",
         "17850.0",
         "United Kingdom"
        ]
       ],
       "shape": {
        "columns": 8,
        "rows": 5
       }
      },
      "text/html": [
       "<div>\n",
       "<style scoped>\n",
       "    .dataframe tbody tr th:only-of-type {\n",
       "        vertical-align: middle;\n",
       "    }\n",
       "\n",
       "    .dataframe tbody tr th {\n",
       "        vertical-align: top;\n",
       "    }\n",
       "\n",
       "    .dataframe thead th {\n",
       "        text-align: right;\n",
       "    }\n",
       "</style>\n",
       "<table border=\"1\" class=\"dataframe\">\n",
       "  <thead>\n",
       "    <tr style=\"text-align: right;\">\n",
       "      <th></th>\n",
       "      <th>InvoiceNo</th>\n",
       "      <th>StockCode</th>\n",
       "      <th>Description</th>\n",
       "      <th>Quantity</th>\n",
       "      <th>InvoiceDate</th>\n",
       "      <th>UnitPrice</th>\n",
       "      <th>CustomerID</th>\n",
       "      <th>Country</th>\n",
       "    </tr>\n",
       "  </thead>\n",
       "  <tbody>\n",
       "    <tr>\n",
       "      <th>0</th>\n",
       "      <td>536365</td>\n",
       "      <td>85123A</td>\n",
       "      <td>WHITE HANGING HEART T-LIGHT HOLDER</td>\n",
       "      <td>6</td>\n",
       "      <td>12/1/2010 8:26</td>\n",
       "      <td>2.55</td>\n",
       "      <td>17850.0</td>\n",
       "      <td>United Kingdom</td>\n",
       "    </tr>\n",
       "    <tr>\n",
       "      <th>1</th>\n",
       "      <td>536365</td>\n",
       "      <td>71053</td>\n",
       "      <td>WHITE METAL LANTERN</td>\n",
       "      <td>6</td>\n",
       "      <td>12/1/2010 8:26</td>\n",
       "      <td>3.39</td>\n",
       "      <td>17850.0</td>\n",
       "      <td>United Kingdom</td>\n",
       "    </tr>\n",
       "    <tr>\n",
       "      <th>2</th>\n",
       "      <td>536365</td>\n",
       "      <td>84406B</td>\n",
       "      <td>CREAM CUPID HEARTS COAT HANGER</td>\n",
       "      <td>8</td>\n",
       "      <td>12/1/2010 8:26</td>\n",
       "      <td>2.75</td>\n",
       "      <td>17850.0</td>\n",
       "      <td>United Kingdom</td>\n",
       "    </tr>\n",
       "    <tr>\n",
       "      <th>3</th>\n",
       "      <td>536365</td>\n",
       "      <td>84029G</td>\n",
       "      <td>KNITTED UNION FLAG HOT WATER BOTTLE</td>\n",
       "      <td>6</td>\n",
       "      <td>12/1/2010 8:26</td>\n",
       "      <td>3.39</td>\n",
       "      <td>17850.0</td>\n",
       "      <td>United Kingdom</td>\n",
       "    </tr>\n",
       "    <tr>\n",
       "      <th>4</th>\n",
       "      <td>536365</td>\n",
       "      <td>84029E</td>\n",
       "      <td>RED WOOLLY HOTTIE WHITE HEART.</td>\n",
       "      <td>6</td>\n",
       "      <td>12/1/2010 8:26</td>\n",
       "      <td>3.39</td>\n",
       "      <td>17850.0</td>\n",
       "      <td>United Kingdom</td>\n",
       "    </tr>\n",
       "  </tbody>\n",
       "</table>\n",
       "</div>"
      ],
      "text/plain": [
       "  InvoiceNo StockCode                          Description  Quantity  \\\n",
       "0    536365    85123A   WHITE HANGING HEART T-LIGHT HOLDER         6   \n",
       "1    536365     71053                  WHITE METAL LANTERN         6   \n",
       "2    536365    84406B       CREAM CUPID HEARTS COAT HANGER         8   \n",
       "3    536365    84029G  KNITTED UNION FLAG HOT WATER BOTTLE         6   \n",
       "4    536365    84029E       RED WOOLLY HOTTIE WHITE HEART.         6   \n",
       "\n",
       "      InvoiceDate  UnitPrice  CustomerID         Country  \n",
       "0  12/1/2010 8:26       2.55     17850.0  United Kingdom  \n",
       "1  12/1/2010 8:26       3.39     17850.0  United Kingdom  \n",
       "2  12/1/2010 8:26       2.75     17850.0  United Kingdom  \n",
       "3  12/1/2010 8:26       3.39     17850.0  United Kingdom  \n",
       "4  12/1/2010 8:26       3.39     17850.0  United Kingdom  "
      ]
     },
     "execution_count": 67,
     "metadata": {},
     "output_type": "execute_result"
    }
   ],
   "source": [
    "%run missing_values_cleaner.py\n",
    "# Here the correct arguments should be added\n",
    "missing_values_cleaner(df).head()"
   ]
  },
  {
   "cell_type": "markdown",
   "id": "ed2e73cb",
   "metadata": {},
   "source": [
    "#### 3) Create the **`quantity_handler`** function, which takes a Pandas DataFrame as input and **returns the same DataFrame after removing all rows that contain negative or 0 values in the** **`Quantity`** **column.**\n",
    "\n"
   ]
  },
  {
   "cell_type": "code",
   "execution_count": 68,
   "id": "75a04a38",
   "metadata": {},
   "outputs": [
    {
     "name": "stdout",
     "output_type": "stream",
     "text": [
      "Overwriting quantity_handler.py\n"
     ]
    }
   ],
   "source": [
    "%%writefile quantity_handler.py\n",
    "import pandas as pd\n",
    "\n",
    "def quantity_handler(df) -> pd.DataFrame:\n",
    "    \n",
    "    df = df.copy()\n",
    "    \n",
    "    df[df[\"Quantity\"] > 0]\n",
    "\n",
    "    return df"
   ]
  },
  {
   "cell_type": "markdown",
   "id": "86278ffc",
   "metadata": {},
   "source": [
    "#### Call your `quantity_handler` function on the original `df` below to view the results:\n"
   ]
  },
  {
   "cell_type": "code",
   "execution_count": 69,
   "id": "be221de0",
   "metadata": {},
   "outputs": [
    {
     "data": {
      "application/vnd.microsoft.datawrangler.viewer.v0+json": {
       "columns": [
        {
         "name": "index",
         "rawType": "int64",
         "type": "integer"
        },
        {
         "name": "InvoiceNo",
         "rawType": "object",
         "type": "string"
        },
        {
         "name": "StockCode",
         "rawType": "object",
         "type": "string"
        },
        {
         "name": "Description",
         "rawType": "object",
         "type": "string"
        },
        {
         "name": "Quantity",
         "rawType": "int64",
         "type": "integer"
        },
        {
         "name": "InvoiceDate",
         "rawType": "object",
         "type": "string"
        },
        {
         "name": "UnitPrice",
         "rawType": "float64",
         "type": "float"
        },
        {
         "name": "CustomerID",
         "rawType": "float64",
         "type": "float"
        },
        {
         "name": "Country",
         "rawType": "object",
         "type": "string"
        }
       ],
       "ref": "a387df3c-500b-40d2-bb70-95a5b97a81df",
       "rows": [
        [
         "0",
         "536365",
         "85123A",
         "WHITE HANGING HEART T-LIGHT HOLDER",
         "6",
         "12/1/2010 8:26",
         "2.55",
         "17850.0",
         "United Kingdom"
        ],
        [
         "1",
         "536365",
         "71053",
         "WHITE METAL LANTERN",
         "6",
         "12/1/2010 8:26",
         "3.39",
         "17850.0",
         "United Kingdom"
        ],
        [
         "2",
         "536365",
         "84406B",
         "CREAM CUPID HEARTS COAT HANGER",
         "8",
         "12/1/2010 8:26",
         "2.75",
         "17850.0",
         "United Kingdom"
        ],
        [
         "3",
         "536365",
         "84029G",
         "KNITTED UNION FLAG HOT WATER BOTTLE",
         "6",
         "12/1/2010 8:26",
         "3.39",
         "17850.0",
         "United Kingdom"
        ],
        [
         "4",
         "536365",
         "84029E",
         "RED WOOLLY HOTTIE WHITE HEART.",
         "6",
         "12/1/2010 8:26",
         "3.39",
         "17850.0",
         "United Kingdom"
        ]
       ],
       "shape": {
        "columns": 8,
        "rows": 5
       }
      },
      "text/html": [
       "<div>\n",
       "<style scoped>\n",
       "    .dataframe tbody tr th:only-of-type {\n",
       "        vertical-align: middle;\n",
       "    }\n",
       "\n",
       "    .dataframe tbody tr th {\n",
       "        vertical-align: top;\n",
       "    }\n",
       "\n",
       "    .dataframe thead th {\n",
       "        text-align: right;\n",
       "    }\n",
       "</style>\n",
       "<table border=\"1\" class=\"dataframe\">\n",
       "  <thead>\n",
       "    <tr style=\"text-align: right;\">\n",
       "      <th></th>\n",
       "      <th>InvoiceNo</th>\n",
       "      <th>StockCode</th>\n",
       "      <th>Description</th>\n",
       "      <th>Quantity</th>\n",
       "      <th>InvoiceDate</th>\n",
       "      <th>UnitPrice</th>\n",
       "      <th>CustomerID</th>\n",
       "      <th>Country</th>\n",
       "    </tr>\n",
       "  </thead>\n",
       "  <tbody>\n",
       "    <tr>\n",
       "      <th>0</th>\n",
       "      <td>536365</td>\n",
       "      <td>85123A</td>\n",
       "      <td>WHITE HANGING HEART T-LIGHT HOLDER</td>\n",
       "      <td>6</td>\n",
       "      <td>12/1/2010 8:26</td>\n",
       "      <td>2.55</td>\n",
       "      <td>17850.0</td>\n",
       "      <td>United Kingdom</td>\n",
       "    </tr>\n",
       "    <tr>\n",
       "      <th>1</th>\n",
       "      <td>536365</td>\n",
       "      <td>71053</td>\n",
       "      <td>WHITE METAL LANTERN</td>\n",
       "      <td>6</td>\n",
       "      <td>12/1/2010 8:26</td>\n",
       "      <td>3.39</td>\n",
       "      <td>17850.0</td>\n",
       "      <td>United Kingdom</td>\n",
       "    </tr>\n",
       "    <tr>\n",
       "      <th>2</th>\n",
       "      <td>536365</td>\n",
       "      <td>84406B</td>\n",
       "      <td>CREAM CUPID HEARTS COAT HANGER</td>\n",
       "      <td>8</td>\n",
       "      <td>12/1/2010 8:26</td>\n",
       "      <td>2.75</td>\n",
       "      <td>17850.0</td>\n",
       "      <td>United Kingdom</td>\n",
       "    </tr>\n",
       "    <tr>\n",
       "      <th>3</th>\n",
       "      <td>536365</td>\n",
       "      <td>84029G</td>\n",
       "      <td>KNITTED UNION FLAG HOT WATER BOTTLE</td>\n",
       "      <td>6</td>\n",
       "      <td>12/1/2010 8:26</td>\n",
       "      <td>3.39</td>\n",
       "      <td>17850.0</td>\n",
       "      <td>United Kingdom</td>\n",
       "    </tr>\n",
       "    <tr>\n",
       "      <th>4</th>\n",
       "      <td>536365</td>\n",
       "      <td>84029E</td>\n",
       "      <td>RED WOOLLY HOTTIE WHITE HEART.</td>\n",
       "      <td>6</td>\n",
       "      <td>12/1/2010 8:26</td>\n",
       "      <td>3.39</td>\n",
       "      <td>17850.0</td>\n",
       "      <td>United Kingdom</td>\n",
       "    </tr>\n",
       "  </tbody>\n",
       "</table>\n",
       "</div>"
      ],
      "text/plain": [
       "  InvoiceNo StockCode                          Description  Quantity  \\\n",
       "0    536365    85123A   WHITE HANGING HEART T-LIGHT HOLDER         6   \n",
       "1    536365     71053                  WHITE METAL LANTERN         6   \n",
       "2    536365    84406B       CREAM CUPID HEARTS COAT HANGER         8   \n",
       "3    536365    84029G  KNITTED UNION FLAG HOT WATER BOTTLE         6   \n",
       "4    536365    84029E       RED WOOLLY HOTTIE WHITE HEART.         6   \n",
       "\n",
       "      InvoiceDate  UnitPrice  CustomerID         Country  \n",
       "0  12/1/2010 8:26       2.55     17850.0  United Kingdom  \n",
       "1  12/1/2010 8:26       3.39     17850.0  United Kingdom  \n",
       "2  12/1/2010 8:26       2.75     17850.0  United Kingdom  \n",
       "3  12/1/2010 8:26       3.39     17850.0  United Kingdom  \n",
       "4  12/1/2010 8:26       3.39     17850.0  United Kingdom  "
      ]
     },
     "execution_count": 69,
     "metadata": {},
     "output_type": "execute_result"
    }
   ],
   "source": [
    "%run quantity_handler.py\n",
    "\n",
    "# Here the correct arguments should be added\n",
    "quantity_handler(df).head()"
   ]
  },
  {
   "cell_type": "markdown",
   "id": "d27a605a",
   "metadata": {},
   "source": [
    "#### 4) Create the **`amount_spent_computer`** function, which takes a Pandas DataFrame as input and **returns the same DataFrame with an added column named** **`amount_spent`**. This column should represent the product of **`Quantity`** and **`UnitPrice`**.\n"
   ]
  },
  {
   "cell_type": "code",
   "execution_count": 70,
   "id": "dd07698b",
   "metadata": {},
   "outputs": [
    {
     "name": "stdout",
     "output_type": "stream",
     "text": [
      "Overwriting amount_spent_computer.py\n"
     ]
    }
   ],
   "source": [
    "%%writefile amount_spent_computer.py\n",
    "import pandas as pd\n",
    "\n",
    "def amount_spent_computer(df) -> pd.DataFrame:\n",
    "    \n",
    "    df = df.copy()\n",
    "    \n",
    "    df[\"amount_spent\"] = df[\"Quantity\"] * df[\"UnitPrice\"]\n",
    "    \n",
    "    return df"
   ]
  },
  {
   "cell_type": "markdown",
   "id": "6b30a629",
   "metadata": {},
   "source": [
    "#### Call your `amount_spent_computer` function on the original `df` below to view the results:\n"
   ]
  },
  {
   "cell_type": "code",
   "execution_count": 71,
   "id": "867711ba",
   "metadata": {},
   "outputs": [
    {
     "data": {
      "application/vnd.microsoft.datawrangler.viewer.v0+json": {
       "columns": [
        {
         "name": "index",
         "rawType": "int64",
         "type": "integer"
        },
        {
         "name": "InvoiceNo",
         "rawType": "object",
         "type": "string"
        },
        {
         "name": "StockCode",
         "rawType": "object",
         "type": "string"
        },
        {
         "name": "Description",
         "rawType": "object",
         "type": "string"
        },
        {
         "name": "Quantity",
         "rawType": "int64",
         "type": "integer"
        },
        {
         "name": "InvoiceDate",
         "rawType": "object",
         "type": "string"
        },
        {
         "name": "UnitPrice",
         "rawType": "float64",
         "type": "float"
        },
        {
         "name": "CustomerID",
         "rawType": "float64",
         "type": "float"
        },
        {
         "name": "Country",
         "rawType": "object",
         "type": "string"
        },
        {
         "name": "amount_spent",
         "rawType": "float64",
         "type": "float"
        }
       ],
       "ref": "5e24c90a-3023-489f-aded-954a574df842",
       "rows": [
        [
         "0",
         "536365",
         "85123A",
         "WHITE HANGING HEART T-LIGHT HOLDER",
         "6",
         "12/1/2010 8:26",
         "2.55",
         "17850.0",
         "United Kingdom",
         "15.299999999999999"
        ],
        [
         "1",
         "536365",
         "71053",
         "WHITE METAL LANTERN",
         "6",
         "12/1/2010 8:26",
         "3.39",
         "17850.0",
         "United Kingdom",
         "20.34"
        ],
        [
         "2",
         "536365",
         "84406B",
         "CREAM CUPID HEARTS COAT HANGER",
         "8",
         "12/1/2010 8:26",
         "2.75",
         "17850.0",
         "United Kingdom",
         "22.0"
        ],
        [
         "3",
         "536365",
         "84029G",
         "KNITTED UNION FLAG HOT WATER BOTTLE",
         "6",
         "12/1/2010 8:26",
         "3.39",
         "17850.0",
         "United Kingdom",
         "20.34"
        ],
        [
         "4",
         "536365",
         "84029E",
         "RED WOOLLY HOTTIE WHITE HEART.",
         "6",
         "12/1/2010 8:26",
         "3.39",
         "17850.0",
         "United Kingdom",
         "20.34"
        ]
       ],
       "shape": {
        "columns": 9,
        "rows": 5
       }
      },
      "text/html": [
       "<div>\n",
       "<style scoped>\n",
       "    .dataframe tbody tr th:only-of-type {\n",
       "        vertical-align: middle;\n",
       "    }\n",
       "\n",
       "    .dataframe tbody tr th {\n",
       "        vertical-align: top;\n",
       "    }\n",
       "\n",
       "    .dataframe thead th {\n",
       "        text-align: right;\n",
       "    }\n",
       "</style>\n",
       "<table border=\"1\" class=\"dataframe\">\n",
       "  <thead>\n",
       "    <tr style=\"text-align: right;\">\n",
       "      <th></th>\n",
       "      <th>InvoiceNo</th>\n",
       "      <th>StockCode</th>\n",
       "      <th>Description</th>\n",
       "      <th>Quantity</th>\n",
       "      <th>InvoiceDate</th>\n",
       "      <th>UnitPrice</th>\n",
       "      <th>CustomerID</th>\n",
       "      <th>Country</th>\n",
       "      <th>amount_spent</th>\n",
       "    </tr>\n",
       "  </thead>\n",
       "  <tbody>\n",
       "    <tr>\n",
       "      <th>0</th>\n",
       "      <td>536365</td>\n",
       "      <td>85123A</td>\n",
       "      <td>WHITE HANGING HEART T-LIGHT HOLDER</td>\n",
       "      <td>6</td>\n",
       "      <td>12/1/2010 8:26</td>\n",
       "      <td>2.55</td>\n",
       "      <td>17850.0</td>\n",
       "      <td>United Kingdom</td>\n",
       "      <td>15.30</td>\n",
       "    </tr>\n",
       "    <tr>\n",
       "      <th>1</th>\n",
       "      <td>536365</td>\n",
       "      <td>71053</td>\n",
       "      <td>WHITE METAL LANTERN</td>\n",
       "      <td>6</td>\n",
       "      <td>12/1/2010 8:26</td>\n",
       "      <td>3.39</td>\n",
       "      <td>17850.0</td>\n",
       "      <td>United Kingdom</td>\n",
       "      <td>20.34</td>\n",
       "    </tr>\n",
       "    <tr>\n",
       "      <th>2</th>\n",
       "      <td>536365</td>\n",
       "      <td>84406B</td>\n",
       "      <td>CREAM CUPID HEARTS COAT HANGER</td>\n",
       "      <td>8</td>\n",
       "      <td>12/1/2010 8:26</td>\n",
       "      <td>2.75</td>\n",
       "      <td>17850.0</td>\n",
       "      <td>United Kingdom</td>\n",
       "      <td>22.00</td>\n",
       "    </tr>\n",
       "    <tr>\n",
       "      <th>3</th>\n",
       "      <td>536365</td>\n",
       "      <td>84029G</td>\n",
       "      <td>KNITTED UNION FLAG HOT WATER BOTTLE</td>\n",
       "      <td>6</td>\n",
       "      <td>12/1/2010 8:26</td>\n",
       "      <td>3.39</td>\n",
       "      <td>17850.0</td>\n",
       "      <td>United Kingdom</td>\n",
       "      <td>20.34</td>\n",
       "    </tr>\n",
       "    <tr>\n",
       "      <th>4</th>\n",
       "      <td>536365</td>\n",
       "      <td>84029E</td>\n",
       "      <td>RED WOOLLY HOTTIE WHITE HEART.</td>\n",
       "      <td>6</td>\n",
       "      <td>12/1/2010 8:26</td>\n",
       "      <td>3.39</td>\n",
       "      <td>17850.0</td>\n",
       "      <td>United Kingdom</td>\n",
       "      <td>20.34</td>\n",
       "    </tr>\n",
       "  </tbody>\n",
       "</table>\n",
       "</div>"
      ],
      "text/plain": [
       "  InvoiceNo StockCode                          Description  Quantity  \\\n",
       "0    536365    85123A   WHITE HANGING HEART T-LIGHT HOLDER         6   \n",
       "1    536365     71053                  WHITE METAL LANTERN         6   \n",
       "2    536365    84406B       CREAM CUPID HEARTS COAT HANGER         8   \n",
       "3    536365    84029G  KNITTED UNION FLAG HOT WATER BOTTLE         6   \n",
       "4    536365    84029E       RED WOOLLY HOTTIE WHITE HEART.         6   \n",
       "\n",
       "      InvoiceDate  UnitPrice  CustomerID         Country  amount_spent  \n",
       "0  12/1/2010 8:26       2.55     17850.0  United Kingdom         15.30  \n",
       "1  12/1/2010 8:26       3.39     17850.0  United Kingdom         20.34  \n",
       "2  12/1/2010 8:26       2.75     17850.0  United Kingdom         22.00  \n",
       "3  12/1/2010 8:26       3.39     17850.0  United Kingdom         20.34  \n",
       "4  12/1/2010 8:26       3.39     17850.0  United Kingdom         20.34  "
      ]
     },
     "execution_count": 71,
     "metadata": {},
     "output_type": "execute_result"
    }
   ],
   "source": [
    "%run amount_spent_computer.py\n",
    "\n",
    "# Here the correct arguments should be added\n",
    "amount_spent_computer(df).head()"
   ]
  },
  {
   "cell_type": "markdown",
   "id": "5ec758ee",
   "metadata": {},
   "source": [
    "#### 5) Create the **`date_handler`** function, which takes a Pandas DataFrame as input and **returns the same DataFrame without any invoices from the year 2011.**\n"
   ]
  },
  {
   "cell_type": "code",
   "execution_count": 72,
   "id": "ea261964",
   "metadata": {},
   "outputs": [
    {
     "name": "stdout",
     "output_type": "stream",
     "text": [
      "Overwriting date_handler.py\n"
     ]
    }
   ],
   "source": [
    "%%writefile date_handler.py\n",
    "import pandas as pd\n",
    "\n",
    "def date_handler(df) -> pd.DataFrame:\n",
    "    df = df.copy()\n",
    "    \n",
    "    # Ensure 'InvoiceDate' is datetime\n",
    "    df['InvoiceDate'] = pd.to_datetime(df['InvoiceDate'])\n",
    "\n",
    "    df = df[df['InvoiceDate'].dt.year != 2011]\n",
    "    \n",
    "    return df"
   ]
  },
  {
   "cell_type": "markdown",
   "id": "571ab24f",
   "metadata": {},
   "source": [
    "#### Call your `date_handler` function on the original `df` below to view the results:\n"
   ]
  },
  {
   "cell_type": "code",
   "execution_count": 73,
   "id": "f0b3c7e5",
   "metadata": {},
   "outputs": [
    {
     "data": {
      "application/vnd.microsoft.datawrangler.viewer.v0+json": {
       "columns": [
        {
         "name": "index",
         "rawType": "int64",
         "type": "integer"
        },
        {
         "name": "InvoiceNo",
         "rawType": "object",
         "type": "string"
        },
        {
         "name": "StockCode",
         "rawType": "object",
         "type": "string"
        },
        {
         "name": "Description",
         "rawType": "object",
         "type": "string"
        },
        {
         "name": "Quantity",
         "rawType": "int64",
         "type": "integer"
        },
        {
         "name": "InvoiceDate",
         "rawType": "datetime64[ns]",
         "type": "datetime"
        },
        {
         "name": "UnitPrice",
         "rawType": "float64",
         "type": "float"
        },
        {
         "name": "CustomerID",
         "rawType": "float64",
         "type": "float"
        },
        {
         "name": "Country",
         "rawType": "object",
         "type": "string"
        }
       ],
       "ref": "c57ddabe-eb32-4520-8fe7-f88b9af942ef",
       "rows": [
        [
         "0",
         "536365",
         "85123A",
         "WHITE HANGING HEART T-LIGHT HOLDER",
         "6",
         "2010-12-01 08:26:00",
         "2.55",
         "17850.0",
         "United Kingdom"
        ],
        [
         "1",
         "536365",
         "71053",
         "WHITE METAL LANTERN",
         "6",
         "2010-12-01 08:26:00",
         "3.39",
         "17850.0",
         "United Kingdom"
        ],
        [
         "2",
         "536365",
         "84406B",
         "CREAM CUPID HEARTS COAT HANGER",
         "8",
         "2010-12-01 08:26:00",
         "2.75",
         "17850.0",
         "United Kingdom"
        ],
        [
         "3",
         "536365",
         "84029G",
         "KNITTED UNION FLAG HOT WATER BOTTLE",
         "6",
         "2010-12-01 08:26:00",
         "3.39",
         "17850.0",
         "United Kingdom"
        ],
        [
         "4",
         "536365",
         "84029E",
         "RED WOOLLY HOTTIE WHITE HEART.",
         "6",
         "2010-12-01 08:26:00",
         "3.39",
         "17850.0",
         "United Kingdom"
        ]
       ],
       "shape": {
        "columns": 8,
        "rows": 5
       }
      },
      "text/html": [
       "<div>\n",
       "<style scoped>\n",
       "    .dataframe tbody tr th:only-of-type {\n",
       "        vertical-align: middle;\n",
       "    }\n",
       "\n",
       "    .dataframe tbody tr th {\n",
       "        vertical-align: top;\n",
       "    }\n",
       "\n",
       "    .dataframe thead th {\n",
       "        text-align: right;\n",
       "    }\n",
       "</style>\n",
       "<table border=\"1\" class=\"dataframe\">\n",
       "  <thead>\n",
       "    <tr style=\"text-align: right;\">\n",
       "      <th></th>\n",
       "      <th>InvoiceNo</th>\n",
       "      <th>StockCode</th>\n",
       "      <th>Description</th>\n",
       "      <th>Quantity</th>\n",
       "      <th>InvoiceDate</th>\n",
       "      <th>UnitPrice</th>\n",
       "      <th>CustomerID</th>\n",
       "      <th>Country</th>\n",
       "    </tr>\n",
       "  </thead>\n",
       "  <tbody>\n",
       "    <tr>\n",
       "      <th>0</th>\n",
       "      <td>536365</td>\n",
       "      <td>85123A</td>\n",
       "      <td>WHITE HANGING HEART T-LIGHT HOLDER</td>\n",
       "      <td>6</td>\n",
       "      <td>2010-12-01 08:26:00</td>\n",
       "      <td>2.55</td>\n",
       "      <td>17850.0</td>\n",
       "      <td>United Kingdom</td>\n",
       "    </tr>\n",
       "    <tr>\n",
       "      <th>1</th>\n",
       "      <td>536365</td>\n",
       "      <td>71053</td>\n",
       "      <td>WHITE METAL LANTERN</td>\n",
       "      <td>6</td>\n",
       "      <td>2010-12-01 08:26:00</td>\n",
       "      <td>3.39</td>\n",
       "      <td>17850.0</td>\n",
       "      <td>United Kingdom</td>\n",
       "    </tr>\n",
       "    <tr>\n",
       "      <th>2</th>\n",
       "      <td>536365</td>\n",
       "      <td>84406B</td>\n",
       "      <td>CREAM CUPID HEARTS COAT HANGER</td>\n",
       "      <td>8</td>\n",
       "      <td>2010-12-01 08:26:00</td>\n",
       "      <td>2.75</td>\n",
       "      <td>17850.0</td>\n",
       "      <td>United Kingdom</td>\n",
       "    </tr>\n",
       "    <tr>\n",
       "      <th>3</th>\n",
       "      <td>536365</td>\n",
       "      <td>84029G</td>\n",
       "      <td>KNITTED UNION FLAG HOT WATER BOTTLE</td>\n",
       "      <td>6</td>\n",
       "      <td>2010-12-01 08:26:00</td>\n",
       "      <td>3.39</td>\n",
       "      <td>17850.0</td>\n",
       "      <td>United Kingdom</td>\n",
       "    </tr>\n",
       "    <tr>\n",
       "      <th>4</th>\n",
       "      <td>536365</td>\n",
       "      <td>84029E</td>\n",
       "      <td>RED WOOLLY HOTTIE WHITE HEART.</td>\n",
       "      <td>6</td>\n",
       "      <td>2010-12-01 08:26:00</td>\n",
       "      <td>3.39</td>\n",
       "      <td>17850.0</td>\n",
       "      <td>United Kingdom</td>\n",
       "    </tr>\n",
       "  </tbody>\n",
       "</table>\n",
       "</div>"
      ],
      "text/plain": [
       "  InvoiceNo StockCode                          Description  Quantity  \\\n",
       "0    536365    85123A   WHITE HANGING HEART T-LIGHT HOLDER         6   \n",
       "1    536365     71053                  WHITE METAL LANTERN         6   \n",
       "2    536365    84406B       CREAM CUPID HEARTS COAT HANGER         8   \n",
       "3    536365    84029G  KNITTED UNION FLAG HOT WATER BOTTLE         6   \n",
       "4    536365    84029E       RED WOOLLY HOTTIE WHITE HEART.         6   \n",
       "\n",
       "          InvoiceDate  UnitPrice  CustomerID         Country  \n",
       "0 2010-12-01 08:26:00       2.55     17850.0  United Kingdom  \n",
       "1 2010-12-01 08:26:00       3.39     17850.0  United Kingdom  \n",
       "2 2010-12-01 08:26:00       2.75     17850.0  United Kingdom  \n",
       "3 2010-12-01 08:26:00       3.39     17850.0  United Kingdom  \n",
       "4 2010-12-01 08:26:00       3.39     17850.0  United Kingdom  "
      ]
     },
     "execution_count": 73,
     "metadata": {},
     "output_type": "execute_result"
    }
   ],
   "source": [
    "%run date_handler.py\n",
    "# Here the correct arguments should be added\n",
    "date_handler(df).head()"
   ]
  },
  {
   "cell_type": "markdown",
   "id": "5b944cbc",
   "metadata": {},
   "source": [
    "#### 6) Create the **`data_cleaner`** function, which takes a Pandas DataFrame as input and **returns the same DataFrame after cleaning.** The cleaning process must follow the instructions provided inside the function.\n"
   ]
  },
  {
   "cell_type": "code",
   "execution_count": 74,
   "id": "710136e7",
   "metadata": {},
   "outputs": [
    {
     "name": "stdout",
     "output_type": "stream",
     "text": [
      "Overwriting data_cleaner.py\n"
     ]
    }
   ],
   "source": [
    "%%writefile data_cleaner.py\n",
    "import pandas as pd\n",
    "from missing_values_cleaner import missing_values_cleaner\n",
    "from quantity_handler import quantity_handler\n",
    "from amount_spent_computer import amount_spent_computer\n",
    "from date_handler import date_handler\n",
    "\n",
    "def data_cleaner(df) -> pd.DataFrame:\n",
    "    \n",
    "    \"\"\"\n",
    "    \n",
    "    This function receives a Pandas DataFrame as input.\n",
    "\n",
    "    First, pass the input DataFrame `df` to the `missing_values_cleaner`\n",
    "    function, and store its output in a new variable called `clean`.\n",
    "    Then, pass `clean` to the `quantity_handler` function and store its\n",
    "    output (you may reuse the variable name `clean`).\n",
    "\n",
    "    Next, pass the resulting DataFrame to the `amount_spent_computer`\n",
    "    function, and then to the `date_handler` function. Finally, return\n",
    "    the fully cleaned DataFrame.\n",
    "    \n",
    "    \"\"\"\n",
    "    \n",
    "    # Step 1 - Clean missing values\n",
    "    clean = missing_values_cleaner(df)\n",
    "    \n",
    "    # Step 2 - Remove invalid quantities\n",
    "    clean = quantity_handler(clean)\n",
    "    \n",
    "    # Step 3 - Compute amount spent\n",
    "    clean = amount_spent_computer(clean)\n",
    "    \n",
    "    # Step 4 - Remove invoices from 2011\n",
    "    clean = date_handler(clean)\n",
    "    \n",
    "    return clean"
   ]
  },
  {
   "cell_type": "markdown",
   "id": "1eca1410",
   "metadata": {},
   "source": [
    "#### Now, before we proceed. We will clean our data using your **`data_cleaner`** function.\n"
   ]
  },
  {
   "cell_type": "code",
   "execution_count": 75,
   "id": "2431fb43",
   "metadata": {},
   "outputs": [
    {
     "data": {
      "application/vnd.microsoft.datawrangler.viewer.v0+json": {
       "columns": [
        {
         "name": "index",
         "rawType": "int64",
         "type": "integer"
        },
        {
         "name": "InvoiceNo",
         "rawType": "object",
         "type": "string"
        },
        {
         "name": "StockCode",
         "rawType": "object",
         "type": "string"
        },
        {
         "name": "Description",
         "rawType": "object",
         "type": "string"
        },
        {
         "name": "Quantity",
         "rawType": "int64",
         "type": "integer"
        },
        {
         "name": "InvoiceDate",
         "rawType": "datetime64[ns]",
         "type": "datetime"
        },
        {
         "name": "UnitPrice",
         "rawType": "float64",
         "type": "float"
        },
        {
         "name": "CustomerID",
         "rawType": "float64",
         "type": "float"
        },
        {
         "name": "Country",
         "rawType": "object",
         "type": "string"
        },
        {
         "name": "amount_spent",
         "rawType": "float64",
         "type": "float"
        }
       ],
       "ref": "5d125fea-4ebc-41b9-89a0-4d9ff64f25a7",
       "rows": [
        [
         "0",
         "536365",
         "85123A",
         "WHITE HANGING HEART T-LIGHT HOLDER",
         "6",
         "2010-12-01 08:26:00",
         "2.55",
         "17850.0",
         "United Kingdom",
         "15.299999999999999"
        ],
        [
         "1",
         "536365",
         "71053",
         "WHITE METAL LANTERN",
         "6",
         "2010-12-01 08:26:00",
         "3.39",
         "17850.0",
         "United Kingdom",
         "20.34"
        ],
        [
         "2",
         "536365",
         "84406B",
         "CREAM CUPID HEARTS COAT HANGER",
         "8",
         "2010-12-01 08:26:00",
         "2.75",
         "17850.0",
         "United Kingdom",
         "22.0"
        ],
        [
         "3",
         "536365",
         "84029G",
         "KNITTED UNION FLAG HOT WATER BOTTLE",
         "6",
         "2010-12-01 08:26:00",
         "3.39",
         "17850.0",
         "United Kingdom",
         "20.34"
        ],
        [
         "4",
         "536365",
         "84029E",
         "RED WOOLLY HOTTIE WHITE HEART.",
         "6",
         "2010-12-01 08:26:00",
         "3.39",
         "17850.0",
         "United Kingdom",
         "20.34"
        ]
       ],
       "shape": {
        "columns": 9,
        "rows": 5
       }
      },
      "text/html": [
       "<div>\n",
       "<style scoped>\n",
       "    .dataframe tbody tr th:only-of-type {\n",
       "        vertical-align: middle;\n",
       "    }\n",
       "\n",
       "    .dataframe tbody tr th {\n",
       "        vertical-align: top;\n",
       "    }\n",
       "\n",
       "    .dataframe thead th {\n",
       "        text-align: right;\n",
       "    }\n",
       "</style>\n",
       "<table border=\"1\" class=\"dataframe\">\n",
       "  <thead>\n",
       "    <tr style=\"text-align: right;\">\n",
       "      <th></th>\n",
       "      <th>InvoiceNo</th>\n",
       "      <th>StockCode</th>\n",
       "      <th>Description</th>\n",
       "      <th>Quantity</th>\n",
       "      <th>InvoiceDate</th>\n",
       "      <th>UnitPrice</th>\n",
       "      <th>CustomerID</th>\n",
       "      <th>Country</th>\n",
       "      <th>amount_spent</th>\n",
       "    </tr>\n",
       "  </thead>\n",
       "  <tbody>\n",
       "    <tr>\n",
       "      <th>0</th>\n",
       "      <td>536365</td>\n",
       "      <td>85123A</td>\n",
       "      <td>WHITE HANGING HEART T-LIGHT HOLDER</td>\n",
       "      <td>6</td>\n",
       "      <td>2010-12-01 08:26:00</td>\n",
       "      <td>2.55</td>\n",
       "      <td>17850.0</td>\n",
       "      <td>United Kingdom</td>\n",
       "      <td>15.30</td>\n",
       "    </tr>\n",
       "    <tr>\n",
       "      <th>1</th>\n",
       "      <td>536365</td>\n",
       "      <td>71053</td>\n",
       "      <td>WHITE METAL LANTERN</td>\n",
       "      <td>6</td>\n",
       "      <td>2010-12-01 08:26:00</td>\n",
       "      <td>3.39</td>\n",
       "      <td>17850.0</td>\n",
       "      <td>United Kingdom</td>\n",
       "      <td>20.34</td>\n",
       "    </tr>\n",
       "    <tr>\n",
       "      <th>2</th>\n",
       "      <td>536365</td>\n",
       "      <td>84406B</td>\n",
       "      <td>CREAM CUPID HEARTS COAT HANGER</td>\n",
       "      <td>8</td>\n",
       "      <td>2010-12-01 08:26:00</td>\n",
       "      <td>2.75</td>\n",
       "      <td>17850.0</td>\n",
       "      <td>United Kingdom</td>\n",
       "      <td>22.00</td>\n",
       "    </tr>\n",
       "    <tr>\n",
       "      <th>3</th>\n",
       "      <td>536365</td>\n",
       "      <td>84029G</td>\n",
       "      <td>KNITTED UNION FLAG HOT WATER BOTTLE</td>\n",
       "      <td>6</td>\n",
       "      <td>2010-12-01 08:26:00</td>\n",
       "      <td>3.39</td>\n",
       "      <td>17850.0</td>\n",
       "      <td>United Kingdom</td>\n",
       "      <td>20.34</td>\n",
       "    </tr>\n",
       "    <tr>\n",
       "      <th>4</th>\n",
       "      <td>536365</td>\n",
       "      <td>84029E</td>\n",
       "      <td>RED WOOLLY HOTTIE WHITE HEART.</td>\n",
       "      <td>6</td>\n",
       "      <td>2010-12-01 08:26:00</td>\n",
       "      <td>3.39</td>\n",
       "      <td>17850.0</td>\n",
       "      <td>United Kingdom</td>\n",
       "      <td>20.34</td>\n",
       "    </tr>\n",
       "  </tbody>\n",
       "</table>\n",
       "</div>"
      ],
      "text/plain": [
       "  InvoiceNo StockCode                          Description  Quantity  \\\n",
       "0    536365    85123A   WHITE HANGING HEART T-LIGHT HOLDER         6   \n",
       "1    536365     71053                  WHITE METAL LANTERN         6   \n",
       "2    536365    84406B       CREAM CUPID HEARTS COAT HANGER         8   \n",
       "3    536365    84029G  KNITTED UNION FLAG HOT WATER BOTTLE         6   \n",
       "4    536365    84029E       RED WOOLLY HOTTIE WHITE HEART.         6   \n",
       "\n",
       "          InvoiceDate  UnitPrice  CustomerID         Country  amount_spent  \n",
       "0 2010-12-01 08:26:00       2.55     17850.0  United Kingdom         15.30  \n",
       "1 2010-12-01 08:26:00       3.39     17850.0  United Kingdom         20.34  \n",
       "2 2010-12-01 08:26:00       2.75     17850.0  United Kingdom         22.00  \n",
       "3 2010-12-01 08:26:00       3.39     17850.0  United Kingdom         20.34  \n",
       "4 2010-12-01 08:26:00       3.39     17850.0  United Kingdom         20.34  "
      ]
     },
     "execution_count": 75,
     "metadata": {},
     "output_type": "execute_result"
    }
   ],
   "source": [
    "%run data_cleaner.py\n",
    "# Here the correct arguments should be added\n",
    "df = data_cleaner(df)\n",
    "\n",
    "df.head()"
   ]
  },
  {
   "cell_type": "markdown",
   "id": "cf048f9e",
   "metadata": {},
   "source": [
    "#### 7) Create the **`top_five_cust`** function, which takes a Pandas DataFrame as input and **returns a list of** **`CustomerID`s** **corresponding to the five customers who have placed the highest number of orders.** Note that the same invoice number (`InvoiceNo`) represents a single order, even if it appears across multiple rows! Be careful with these repetitions ;)\n"
   ]
  },
  {
   "cell_type": "code",
   "execution_count": 76,
   "id": "1781347d",
   "metadata": {},
   "outputs": [
    {
     "name": "stdout",
     "output_type": "stream",
     "text": [
      "Overwriting top_five_cust.py\n"
     ]
    }
   ],
   "source": [
    "%%writefile top_five_cust.py\n",
    "import pandas as pd\n",
    "\n",
    "def top_five_cust(df) -> list:\n",
    "    \n",
    "    order_counts = df.groupby('CustomerID')['InvoiceNo'].nunique()\n",
    "\n",
    "    top_customers = order_counts.sort_values(ascending=False).head(5)\n",
    "    \n",
    "    return top_customers.index.tolist()"
   ]
  },
  {
   "cell_type": "markdown",
   "id": "e2c3120e",
   "metadata": {},
   "source": [
    "#### Call your `top_five_cust` function on the now cleaned `df` below to view the results:\n"
   ]
  },
  {
   "cell_type": "code",
   "execution_count": 77,
   "id": "da9f3679",
   "metadata": {},
   "outputs": [
    {
     "data": {
      "text/plain": [
       "[12748.0, 17850.0, 14911.0, 15311.0, 15061.0]"
      ]
     },
     "execution_count": 77,
     "metadata": {},
     "output_type": "execute_result"
    }
   ],
   "source": [
    "%run top_five_cust.py\n",
    "# Here the correct arguments should be added\n",
    "top_five_cust(df)"
   ]
  },
  {
   "cell_type": "markdown",
   "id": "7b7b31c9",
   "metadata": {},
   "source": [
    "#### 8) Create the **`top_five_spenders`** function, which takes a Pandas DataFrame as input and **returns a list of** **`CustomerID`s** **corresponding to the five customers who have spent the most money.** Use the newly created **`amount_spent`** column for this exercise.\n"
   ]
  },
  {
   "cell_type": "code",
   "execution_count": 78,
   "id": "4ff3eb87",
   "metadata": {},
   "outputs": [
    {
     "name": "stdout",
     "output_type": "stream",
     "text": [
      "Overwriting top_five_spenders.py\n"
     ]
    }
   ],
   "source": [
    "%%writefile top_five_spenders.py\n",
    "import pandas as pd\n",
    "\n",
    "def top_five_spenders(df) -> list:\n",
    "    total_spent = df.groupby('CustomerID')['amount_spent'].sum()\n",
    "\n",
    "    top_spenders = total_spent.sort_values(ascending=False).head(5)\n",
    "\n",
    "    return top_spenders.index.tolist()"
   ]
  },
  {
   "cell_type": "markdown",
   "id": "15009f25",
   "metadata": {},
   "source": [
    "#### Call your `top_five_spenders` function on the now cleaned `df` below to view the results:\n"
   ]
  },
  {
   "cell_type": "code",
   "execution_count": 79,
   "id": "1b855ebb",
   "metadata": {},
   "outputs": [
    {
     "data": {
      "text/plain": [
       "[18102.0, 15061.0, 16029.0, 14646.0, 16210.0]"
      ]
     },
     "execution_count": 79,
     "metadata": {},
     "output_type": "execute_result"
    }
   ],
   "source": [
    "%run top_five_spenders.py\n",
    "# Here the correct arguments should be added\n",
    "top_five_spenders(df)"
   ]
  },
  {
   "cell_type": "markdown",
   "id": "a81652ff",
   "metadata": {},
   "source": [
    "#### 9) Create the **`most_expensive_item`** function, which receives a Pandas DataFrame as input and **returns a string representing the `Description` of the most expensive item.**\n"
   ]
  },
  {
   "cell_type": "code",
   "execution_count": 83,
   "id": "2c9536b3",
   "metadata": {},
   "outputs": [
    {
     "name": "stdout",
     "output_type": "stream",
     "text": [
      "Overwriting most_expensive_item.py\n"
     ]
    }
   ],
   "source": [
    "%%writefile most_expensive_item.py\n",
    "import pandas as pd\n",
    "\n",
    "def most_expensive_item(df) -> str:\n",
    "    df = df.copy()\n",
    "    \n",
    "    # Find the row with the maximum UnitPrice\n",
    "    max_price_row = df.loc[df[\"UnitPrice\"].idxmax()]\n",
    "    \n",
    "    # Return the description \n",
    "    return max_price_row[\"Description\"]"
   ]
  },
  {
   "cell_type": "markdown",
   "id": "59ae896e",
   "metadata": {},
   "source": [
    "#### Call your `most_expensive_item` function on the now cleaned `df` below to view the results:"
   ]
  },
  {
   "cell_type": "code",
   "execution_count": 84,
   "id": "a7a3234b",
   "metadata": {},
   "outputs": [
    {
     "data": {
      "text/plain": [
       "'VINTAGE RED KITCHEN CABINET'"
      ]
     },
     "execution_count": 84,
     "metadata": {},
     "output_type": "execute_result"
    }
   ],
   "source": [
    "%run most_expensive_item.py\n",
    "# Here the correct arguments should be added\n",
    "most_expensive_item(df)"
   ]
  },
  {
   "cell_type": "markdown",
   "id": "2ebf4929",
   "metadata": {},
   "source": [
    "#### 10) Create the **`top_twenty_countries`** function, which receives a Pandas DataFrame as input and **returns a list of strings containing the 20 countries with the highest number of orders.** Note that this follows the same logic as question 7, so be careful with repeated orders (same invoice numbers)!\n"
   ]
  },
  {
   "cell_type": "code",
   "execution_count": 85,
   "id": "8ed75b0a",
   "metadata": {},
   "outputs": [
    {
     "name": "stdout",
     "output_type": "stream",
     "text": [
      "Overwriting top_twenty_countries.py\n"
     ]
    }
   ],
   "source": [
    "%%writefile top_twenty_countries.py\n",
    "import pandas as pd\n",
    "from typing import List\n",
    "\n",
    "def top_twenty_countries(df) -> List[str]:\n",
    "    \n",
    "    df = df.copy()\n",
    "\n",
    "    # Remove duplicate orders based on InvoiceNo\n",
    "    unique_orders = df.drop_duplicates(subset=[\"InvoiceNo\"])\n",
    "\n",
    "    # Count unique orders per country and take the top 20\n",
    "    top_20 = unique_orders[\"Country\"].value_counts().head(20)\n",
    "\n",
    "    # Return the country names as a list\n",
    "    return list(top_20.index)"
   ]
  },
  {
   "cell_type": "markdown",
   "id": "925b8871",
   "metadata": {},
   "source": [
    "#### Call your `top_twenty_countries` function on the now cleaned `df` below to view the results:"
   ]
  },
  {
   "cell_type": "code",
   "execution_count": null,
   "id": "38fae386",
   "metadata": {},
   "outputs": [
    {
     "data": {
      "text/plain": [
       "['United Kingdom',\n",
       " 'Germany',\n",
       " 'France',\n",
       " 'EIRE',\n",
       " 'Portugal',\n",
       " 'Belgium',\n",
       " 'Australia',\n",
       " 'Lithuania',\n",
       " 'Spain',\n",
       " 'Italy',\n",
       " 'Netherlands',\n",
       " 'Sweden',\n",
       " 'Japan',\n",
       " 'Norway',\n",
       " 'Switzerland',\n",
       " 'Austria',\n",
       " 'Poland',\n",
       " 'Iceland',\n",
       " 'Channel Islands',\n",
       " 'Cyprus']"
      ]
     },
     "execution_count": 86,
     "metadata": {},
     "output_type": "execute_result"
    },
    {
     "ename": "",
     "evalue": "",
     "output_type": "error",
     "traceback": [
      "\u001b[1;31mThe Kernel crashed while executing code in the current cell or a previous cell. \n",
      "\u001b[1;31mPlease review the code in the cell(s) to identify a possible cause of the failure. \n",
      "\u001b[1;31mClick <a href='https://aka.ms/vscodeJupyterKernelCrash'>here</a> for more info. \n",
      "\u001b[1;31mView Jupyter <a href='command:jupyter.viewOutput'>log</a> for further details."
     ]
    }
   ],
   "source": [
    "%run top_twenty_countries.py\n",
    "# Here the correct arguments should be added\n",
    "top_twenty_countries(df)"
   ]
  },
  {
   "cell_type": "markdown",
   "id": "52b18f1b",
   "metadata": {},
   "source": [
    "#### 11) Create the **`popular_products`** function, which receives a Pandas DataFrame as input and **returns a list of strings representing the descriptions (`Description`) of the 5 products purchased the most times.** Note that “number of times” refers only to how often an item was purchased, not the quantity of each order!\n"
   ]
  },
  {
   "cell_type": "code",
   "execution_count": 49,
   "id": "0d1fd529",
   "metadata": {},
   "outputs": [
    {
     "name": "stdout",
     "output_type": "stream",
     "text": [
      "Writing popular_products.py\n"
     ]
    }
   ],
   "source": [
    "%%writefile popular_products.py\n",
    "import pandas as pd\n",
    "from typing import List\n",
    "\n",
    "def popular_products(df) -> List[str]:\n",
    "    \n",
    "    # Your code goes here\n",
    "    pass"
   ]
  },
  {
   "cell_type": "markdown",
   "id": "a4eb3735",
   "metadata": {},
   "source": [
    "#### Call your `popular_products` function on the now cleaned `df` below to view the results:"
   ]
  },
  {
   "cell_type": "code",
   "execution_count": 50,
   "id": "236f1662",
   "metadata": {},
   "outputs": [],
   "source": [
    "%run popular_products.py\n",
    "# Here the correct arguments should be added\n",
    "popular_products(...)"
   ]
  },
  {
   "cell_type": "markdown",
   "id": "e89e71a1",
   "metadata": {},
   "source": [
    "#### 12) Create the **`country_best_product`** function, which receives a Pandas DataFrame and a string as input. The string represents a country. The function must **return** `None` if the country is not present in the DataFrame. Otherwise, it should **return the description of the item that is most frequently purchased in that country.** Remember that “most frequently purchased” refers to how often the item appears, not the quantity purchased.\n"
   ]
  },
  {
   "cell_type": "code",
   "execution_count": 51,
   "id": "1fb9c986",
   "metadata": {},
   "outputs": [
    {
     "name": "stdout",
     "output_type": "stream",
     "text": [
      "Writing country_best_product.py\n"
     ]
    }
   ],
   "source": [
    "%%writefile country_best_product.py\n",
    "import pandas as pd\n",
    "\n",
    "def country_best_product(df, country) -> str:\n",
    "    \n",
    "    # Your code goes here\n",
    "    pass"
   ]
  },
  {
   "cell_type": "markdown",
   "id": "b3a1ee9c",
   "metadata": {},
   "source": [
    "#### Call your `country_best_product` function on the now cleaned `df` and \"Portugal\" below to view the results:"
   ]
  },
  {
   "cell_type": "code",
   "execution_count": 52,
   "id": "8a036edf",
   "metadata": {},
   "outputs": [],
   "source": [
    "%run country_best_product.py\n",
    "# Here the correct arguments should be added\n",
    "country_best_product(..., \"...\")"
   ]
  },
  {
   "cell_type": "markdown",
   "id": "4c49ba76",
   "metadata": {},
   "source": [
    "# Part II"
   ]
  },
  {
   "cell_type": "markdown",
   "id": "8bf36734",
   "metadata": {},
   "source": [
    "#### 13) Create the **`load_customer_data(filepath: str)`** function which loads the **`customer_info.csv`** file into a Pandas DataFrame and returns it. Call this function and save the result into a DataFrame named **`customers`**.\n"
   ]
  },
  {
   "cell_type": "code",
   "execution_count": 53,
   "id": "4094ee1e",
   "metadata": {},
   "outputs": [
    {
     "name": "stdout",
     "output_type": "stream",
     "text": [
      "Writing load_customer_data.py\n"
     ]
    }
   ],
   "source": [
    "%%writefile load_customer_data.py\n",
    "import pandas as pd\n",
    "\n",
    "def load_customer_data(filepath: str) -> pd.DataFrame:\n",
    "    # Your code goes here\n",
    "    pass"
   ]
  },
  {
   "cell_type": "code",
   "execution_count": 54,
   "id": "6b71d07a",
   "metadata": {},
   "outputs": [
    {
     "ename": "AttributeError",
     "evalue": "'NoneType' object has no attribute 'head'",
     "output_type": "error",
     "traceback": [
      "\u001b[1;31m---------------------------------------------------------------------------\u001b[0m",
      "\u001b[1;31mAttributeError\u001b[0m                            Traceback (most recent call last)",
      "Cell \u001b[1;32mIn[54], line 6\u001b[0m\n\u001b[0;32m      3\u001b[0m \u001b[38;5;66;03m# Here the correct arguments should be added\u001b[39;00m\n\u001b[0;32m      4\u001b[0m customers \u001b[38;5;241m=\u001b[39m load_customer_data(\u001b[38;5;124m\"\u001b[39m\u001b[38;5;124m...\u001b[39m\u001b[38;5;124m\"\u001b[39m)\n\u001b[1;32m----> 6\u001b[0m \u001b[43mcustomers\u001b[49m\u001b[38;5;241;43m.\u001b[39;49m\u001b[43mhead\u001b[49m()\n",
      "\u001b[1;31mAttributeError\u001b[0m: 'NoneType' object has no attribute 'head'"
     ]
    }
   ],
   "source": [
    "# Use the loading function with the file paths. Replace '...' with the path to 'customer_info.csv'\n",
    "%run load_customer_data.py\n",
    "# Here the correct arguments should be added\n",
    "customers = load_customer_data(\"...\")\n",
    "\n",
    "customers.head()"
   ]
  },
  {
   "cell_type": "markdown",
   "id": "0cfcea55",
   "metadata": {},
   "source": [
    "#### 14) Create the **`average_age`** function, which takes two Pandas DataFrames as input: the retail DataFrame and the customer DataFrame. The function should use the one created in exercise 7) to obtain the list of the top 5 customers, and then **return a float representing the average age of these top 5 customers (those who placed the most orders).**\n"
   ]
  },
  {
   "cell_type": "code",
   "execution_count": null,
   "id": "b797fc3f",
   "metadata": {},
   "outputs": [],
   "source": [
    "%%writefile average_age.py\n",
    "import pandas as pd\n",
    "from top_five_cust import top_five_cust\n",
    "\n",
    "def average_age(df, customers) -> float:\n",
    "    \n",
    "    # Your code goes here\n",
    "    pass"
   ]
  },
  {
   "cell_type": "markdown",
   "id": "9d70298f",
   "metadata": {},
   "source": [
    "#### Call your `average_age` function on the now cleaned `df` and `customers` below to view the results:"
   ]
  },
  {
   "cell_type": "code",
   "execution_count": null,
   "id": "25e3bf1b",
   "metadata": {},
   "outputs": [],
   "source": [
    "%run average_age.py\n",
    "# Here the correct arguments should be added\n",
    "average_age(..., ...)"
   ]
  },
  {
   "cell_type": "markdown",
   "id": "919e2aeb",
   "metadata": {},
   "source": [
    "#### 15) Create the **`most_active`** function, which takes the customer DataFrame as input and **returns a list of strings containing the emails of the customers who have been active for the longest period of time (`YearsActive`).**\n"
   ]
  },
  {
   "cell_type": "code",
   "execution_count": null,
   "id": "ee1ec814",
   "metadata": {},
   "outputs": [],
   "source": [
    "%%writefile most_active.py\n",
    "import pandas as pd\n",
    "from typing import List\n",
    "\n",
    "def most_active(customers) -> List[str]:\n",
    "    \n",
    "    # Your code goes here\n",
    "    pass"
   ]
  },
  {
   "cell_type": "markdown",
   "id": "b7f1338e",
   "metadata": {},
   "source": [
    "#### Call your `most_active` function on the `customers` DataFrame below to view the results:"
   ]
  },
  {
   "cell_type": "code",
   "execution_count": null,
   "id": "9519d5a6",
   "metadata": {},
   "outputs": [],
   "source": [
    "%run most_active.py\n",
    "# Here the correct arguments should be added\n",
    "most_active(...)"
   ]
  },
  {
   "cell_type": "markdown",
   "id": "2739326b",
   "metadata": {},
   "source": [
    "#### 16) Create the **`parenthood_marketing`** function, which takes two Pandas DataFrames as input: the retail DataFrame and the customer DataFrame. The function should **return a list of 5 strings representing the countries with the highest average number of children among their customers.**\n"
   ]
  },
  {
   "cell_type": "code",
   "execution_count": null,
   "id": "e08de44a",
   "metadata": {},
   "outputs": [],
   "source": [
    "%%writefile parenthood_marketing.py\n",
    "import pandas as pd\n",
    "from typing import List\n",
    "\n",
    "def parenthood_marketing(df, customers) -> List[str]:\n",
    "    # Your code goes here\n",
    "    pass"
   ]
  },
  {
   "cell_type": "markdown",
   "id": "edb52248",
   "metadata": {},
   "source": [
    "#### Call your `parenthood_marketing` function on the now cleaned `df` and `customers` below to view the results:"
   ]
  },
  {
   "cell_type": "code",
   "execution_count": null,
   "id": "daec1caa",
   "metadata": {},
   "outputs": [],
   "source": [
    "%run parenthood_marketing.py\n",
    "# Here the correct arguments should be added\n",
    "parenthood_marketing(..., ...)"
   ]
  },
  {
   "cell_type": "markdown",
   "id": "10a07393",
   "metadata": {},
   "source": [
    "#### 17) Create the **`babuska_clients`** function, which takes two Pandas DataFrames as input: the retail DataFrame and the customer DataFrame. The function should **return a float representing the average age of the customers who purchased the** **`\"HAND WARMER BABUSHKA DESIGN\"`** **item.**\n"
   ]
  },
  {
   "cell_type": "code",
   "execution_count": null,
   "id": "23afdfc7",
   "metadata": {},
   "outputs": [],
   "source": [
    "%%writefile babuska_clients.py\n",
    "import pandas as pd\n",
    "\n",
    "def babuska_clients(df, customers) -> float:\n",
    "    # Your code goes here\n",
    "    pass"
   ]
  },
  {
   "cell_type": "markdown",
   "id": "74bb3126",
   "metadata": {},
   "source": [
    "#### Call your `babuska_clients` function on the now cleaned `df` and `customers` below to view the results:"
   ]
  },
  {
   "cell_type": "code",
   "execution_count": null,
   "id": "4324ab02",
   "metadata": {},
   "outputs": [],
   "source": [
    "%run babuska_clients.py\n",
    "# Here the correct arguments should be added\n",
    "babuska_clients(..., ...)"
   ]
  },
  {
   "cell_type": "markdown",
   "id": "27868003",
   "metadata": {},
   "source": [
    "# Part III"
   ]
  },
  {
   "cell_type": "markdown",
   "id": "078bfa26",
   "metadata": {},
   "source": [
    "#### 18) Create the **`read_sport_dfs(teams_filepath: str, managers_filepath: str)`** function which loads the **`managers.csv`** and the **`teams.csv`** file into two Pandas DataFrames and returns them. Call this function and save the results into DataFrames named **`teams`** and **`managers`** respectively.\n"
   ]
  },
  {
   "cell_type": "code",
   "execution_count": null,
   "id": "4685d2fd",
   "metadata": {},
   "outputs": [],
   "source": [
    "%%writefile read_sport_dfs.py\n",
    "import pandas as pd\n",
    "from typing import Tuple\n",
    "\n",
    "def read_sport_dfs(teams_filepath: str, managers_filepath: str) -> Tuple[pd.DataFrame]:\n",
    "    # Your code goes here\n",
    "    pass"
   ]
  },
  {
   "cell_type": "code",
   "execution_count": null,
   "id": "0cddd857",
   "metadata": {},
   "outputs": [],
   "source": [
    "# Use the loading function with the file paths. Replace '...' with the correct paths. They should reside in your current working directory.\n",
    "%run read_sport_dfs.py\n",
    "# Here the correct arguments should be added\n",
    "teams, managers = read_sport_dfs('...', '...')"
   ]
  },
  {
   "cell_type": "markdown",
   "id": "066e66d3",
   "metadata": {},
   "source": [
    "#### 19) Create the **`go_sports`** function, which takes two Pandas DataFrames as input: the teams DataFrame and the manager DataFrame. This function **returns a DataFrame containing only the team name, its managerID, the year (yearID) in the ```yyyy``` format, the number of wins (`W`) per team and team number of losses (`L`) per team.**\n"
   ]
  },
  {
   "cell_type": "code",
   "execution_count": null,
   "id": "cf105054",
   "metadata": {},
   "outputs": [],
   "source": [
    "%%writefile go_sports.py\n",
    "import pandas as pd\n",
    "\n",
    "def go_sports(teams, managers) -> pd.DataFrame:\n",
    "    \n",
    "    # Your code goes here\n",
    "    pass"
   ]
  },
  {
   "cell_type": "markdown",
   "id": "d916802f",
   "metadata": {},
   "source": [
    "#### Call your `go_sports` function with the `managers` and `teams` DataFrames below to view the results:"
   ]
  },
  {
   "cell_type": "code",
   "execution_count": null,
   "id": "7013f5d6",
   "metadata": {},
   "outputs": [],
   "source": [
    "# %run go_sports.py\n",
    "# Here the correct arguments should be added\n",
    "go_sports(..., ...)"
   ]
  },
  {
   "cell_type": "markdown",
   "id": "ead0d563",
   "metadata": {},
   "source": [
    "#### 20) Create the **`go_manager`** function, which takes two Pandas DataFrames as input: the teams DataFrame and the manager DataFrame. This function first calls the `go_sports` function with managers and teams input and then saves the result in a variable called sports. Then, this function **returns the ID (`managerID`) as a correct string of the manager who has most wins (`W`) over their careers.**\n"
   ]
  },
  {
   "cell_type": "code",
   "execution_count": null,
   "id": "5ed568e5",
   "metadata": {},
   "outputs": [],
   "source": [
    "%%writefile go_manager.py\n",
    "import pandas as pd\n",
    "from go_sports import go_sports\n",
    "\n",
    "def go_manager(teams, managers) -> str:\n",
    "    \n",
    "   # Step 1: Build the sports DataFrame\n",
    "    sports = go_sports(teams, managers)\n",
    "\n",
    "    # Your code goes here\n",
    "    pass"
   ]
  },
  {
   "cell_type": "markdown",
   "id": "968ce3bc",
   "metadata": {},
   "source": [
    "#### Call your `go_manager` function with the `managers` and `teams` DataFrames below to view the results:"
   ]
  },
  {
   "cell_type": "code",
   "execution_count": null,
   "id": "7c877f03",
   "metadata": {},
   "outputs": [],
   "source": [
    "%run go_manager.py\n",
    "# Here the correct arguments should be added\n",
    "go_manager(..., ...)"
   ]
  }
 ],
 "metadata": {
  "kernelspec": {
   "display_name": "Fall2526",
   "language": "python",
   "name": "python3"
  },
  "language_info": {
   "codemirror_mode": {
    "name": "ipython",
    "version": 3
   },
   "file_extension": ".py",
   "mimetype": "text/x-python",
   "name": "python",
   "nbconvert_exporter": "python",
   "pygments_lexer": "ipython3",
   "version": "3.12.11"
  }
 },
 "nbformat": 4,
 "nbformat_minor": 5
}
